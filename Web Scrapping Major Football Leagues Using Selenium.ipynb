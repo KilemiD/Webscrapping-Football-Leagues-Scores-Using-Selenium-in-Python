{
 "cells": [
  {
   "cell_type": "markdown",
   "id": "352ebe0a",
   "metadata": {},
   "source": [
    "#Webscrapping Major Football Leagues Using Selenium. Importing Required libraries "
   ]
  },
  {
   "cell_type": "code",
   "execution_count": null,
   "id": "58246caa",
   "metadata": {},
   "outputs": [],
   "source": [
    "#importing necessary libraries\n",
    "from selenium import webdriver\n",
    "from webdriver_manager.chrome import ChromeDriverManager\n",
    "from selenium.webdriver.support import expected_conditions as EC\n",
    "from selenium.webdriver.support.ui import WebDriverWait\n",
    "from selenium.webdriver.remote.webelement import WebElement\n",
    "#excel dataframe\n",
    "import xlsxwriter\n",
    "#import By for element types\n",
    "from selenium.webdriver.common.by import By\n",
    "#import alert\n",
    "from selenium.webdriver.common.alert import Alert\n",
    "\n",
    "from selenium.common.exceptions import TimeoutException\n",
    "from selenium.common.exceptions import ElementClickInterceptedException"
   ]
  },
  {
   "cell_type": "markdown",
   "id": "5de0da97",
   "metadata": {},
   "source": [
    "Specifying the objects to obtain specifying the Date, Home Team Name, Home Team Half Time Score, Home Team Full Time Score, Away Team Name, Away Team Half Time Score and Away Team Full Time Score. We will start from the premier league, note that we will use the same function for all the other data sets."
   ]
  },
  {
   "cell_type": "code",
   "execution_count": null,
   "id": "1a00336f",
   "metadata": {},
   "outputs": [],
   "source": [
    "# english premier league\n",
    "#putting an object to have the list\n",
    "element_list=[]\n",
    "\n",
    "driver=webdriver.Chrome(ChromeDriverManager().install())\n",
    "driver.get(\"https://www.livesport.com/en/soccer/england/premier-league/results/\")\n",
    "\n",
    "date=driver.find_elements(By.CLASS_NAME,\"event__time\")\n",
    "home_team=driver.find_elements(By.CLASS_NAME,\"event__participant--home\")\n",
    "home_half=driver.find_elements(By.CLASS_NAME,\"event__part--home.event__part--1\")\n",
    "home_full=driver.find_elements(By.CLASS_NAME,\"event__score--home\")\n",
    "away_team=driver.find_elements(By.CLASS_NAME,\"event__participant--away\")\n",
    "away_half=driver.find_elements(By.CLASS_NAME,\"event__part--away.event__part--1\")\n",
    "away_full=driver.find_elements(By.CLASS_NAME,\"event__score--away\")\n",
    "\n",
    "\n",
    "for i in range(len(date)):\n",
    "    element_list.append([date[i].text,home_team[i].text,home_half[i].text,home_full[i].text,\n",
    "                        away_team[i].text,away_half[i].text,away_full[i].text])\n",
    "print(element_list[:2])\n",
    "\n",
    "#closing the driver\n",
    "driver.close()"
   ]
  },
  {
   "cell_type": "code",
   "execution_count": 3,
   "id": "cf9355f3",
   "metadata": {},
   "outputs": [],
   "source": [
    "#turning the element list into a data frame using pandas\n",
    "#i will go to the steps of dealing with each row/column\n",
    "#then maybe finally write a function that does that cleaning in\n",
    "#the above data frame does not look very good"
   ]
  },
  {
   "cell_type": "markdown",
   "id": "c44e743e",
   "metadata": {},
   "source": [
    "Converting the list of elements obtained into a data frame using Pandas Data Frame"
   ]
  },
  {
   "cell_type": "code",
   "execution_count": 10,
   "id": "4dd41023",
   "metadata": {},
   "outputs": [],
   "source": [
    "#making the element list a data frame\n",
    "import pandas as pd \n",
    "# List1 \n",
    "df = pd.DataFrame(element_list, columns =['Date','Home Team','Home Team HT',\n",
    "                                          'Home Team FT','Away Team',\n",
    "                                          'Away Team HT','Away Team FT'],\n",
    "                  dtype = float)"
   ]
  },
  {
   "cell_type": "code",
   "execution_count": 4,
   "id": "ae99031a",
   "metadata": {},
   "outputs": [
    {
     "data": {
      "text/html": [
       "<div>\n",
       "<style scoped>\n",
       "    .dataframe tbody tr th:only-of-type {\n",
       "        vertical-align: middle;\n",
       "    }\n",
       "\n",
       "    .dataframe tbody tr th {\n",
       "        vertical-align: top;\n",
       "    }\n",
       "\n",
       "    .dataframe thead th {\n",
       "        text-align: right;\n",
       "    }\n",
       "</style>\n",
       "<table border=\"1\" class=\"dataframe\">\n",
       "  <thead>\n",
       "    <tr style=\"text-align: right;\">\n",
       "      <th></th>\n",
       "      <th>Date</th>\n",
       "      <th>Home Team</th>\n",
       "      <th>Home Team HT</th>\n",
       "      <th>Home Team FT</th>\n",
       "      <th>Away Team</th>\n",
       "      <th>Away Team HT</th>\n",
       "      <th>Away Team FT</th>\n",
       "    </tr>\n",
       "  </thead>\n",
       "  <tbody>\n",
       "    <tr>\n",
       "      <th>0</th>\n",
       "      <td>06.11. 19:30</td>\n",
       "      <td>Tottenham</td>\n",
       "      <td>(0)</td>\n",
       "      <td>1.0</td>\n",
       "      <td>Liverpool</td>\n",
       "      <td>(2)</td>\n",
       "      <td>2.0</td>\n",
       "    </tr>\n",
       "    <tr>\n",
       "      <th>1</th>\n",
       "      <td>06.11. 17:00</td>\n",
       "      <td>Aston Villa</td>\n",
       "      <td>(2)</td>\n",
       "      <td>3.0</td>\n",
       "      <td>Manchester Utd</td>\n",
       "      <td>(1)</td>\n",
       "      <td>1.0</td>\n",
       "    </tr>\n",
       "    <tr>\n",
       "      <th>2</th>\n",
       "      <td>06.11. 17:00</td>\n",
       "      <td>Southampton</td>\n",
       "      <td>(0)</td>\n",
       "      <td>1.0</td>\n",
       "      <td>Newcastle</td>\n",
       "      <td>(1)</td>\n",
       "      <td>4.0</td>\n",
       "    </tr>\n",
       "    <tr>\n",
       "      <th>3</th>\n",
       "      <td>06.11. 17:00</td>\n",
       "      <td>West Ham</td>\n",
       "      <td>(1)</td>\n",
       "      <td>1.0</td>\n",
       "      <td>Crystal Palace</td>\n",
       "      <td>(1)</td>\n",
       "      <td>2.0</td>\n",
       "    </tr>\n",
       "    <tr>\n",
       "      <th>4</th>\n",
       "      <td>06.11. 15:00</td>\n",
       "      <td>Chelsea</td>\n",
       "      <td>(0)</td>\n",
       "      <td>0.0</td>\n",
       "      <td>Arsenal</td>\n",
       "      <td>(0)</td>\n",
       "      <td>1.0</td>\n",
       "    </tr>\n",
       "  </tbody>\n",
       "</table>\n",
       "</div>"
      ],
      "text/plain": [
       "           Date    Home Team Home Team HT  Home Team FT       Away Team  \\\n",
       "0  06.11. 19:30    Tottenham          (0)           1.0       Liverpool   \n",
       "1  06.11. 17:00  Aston Villa          (2)           3.0  Manchester Utd   \n",
       "2  06.11. 17:00  Southampton          (0)           1.0       Newcastle   \n",
       "3  06.11. 17:00     West Ham          (1)           1.0  Crystal Palace   \n",
       "4  06.11. 15:00      Chelsea          (0)           0.0         Arsenal   \n",
       "\n",
       "  Away Team HT  Away Team FT  \n",
       "0          (2)           2.0  \n",
       "1          (1)           1.0  \n",
       "2          (1)           4.0  \n",
       "3          (1)           2.0  \n",
       "4          (0)           1.0  "
      ]
     },
     "execution_count": 4,
     "metadata": {},
     "output_type": "execute_result"
    }
   ],
   "source": [
    "df.head()"
   ]
  },
  {
   "cell_type": "markdown",
   "id": "12aa50bd",
   "metadata": {},
   "source": [
    "As seen above the data needs some cleaning. First we remove the brackets from the half time scores for both the home team and the away team. Then we deal with separating the date of the match and the time. Also we need to convert the Full Time score into an integer, to represent the number of goals as an integer. So we will make one function to do it all at once."
   ]
  },
  {
   "cell_type": "code",
   "execution_count": 2,
   "id": "760b05f8",
   "metadata": {},
   "outputs": [],
   "source": [
    "#making one data cleaning function for the all data sets\n",
    "def clean_data(df):\n",
    "    #removing the brackets in Half Time Scores\n",
    "    df['Home Team HT']=df['Home Team HT'].str.replace('(','')\n",
    "    df['Home Team HT']=df['Home Team HT'].str.replace(')','')\n",
    "\n",
    "    df['Away Team HT']=df['Away Team HT'].str.replace('(','')\n",
    "    df['Away Team HT']=df['Away Team HT'].str.replace(')','')\n",
    "    \n",
    "    \n",
    "    #converting columns to integers\n",
    "    df['Home Team HT']=df['Home Team HT'].astype(int)\n",
    "    df['Away Team HT']=df['Away Team HT'].astype(int)\n",
    "    df['Home Team FT']=df['Home Team FT'].astype(int)\n",
    "    df['Away Team FT']=df['Away Team FT'].astype(int)\n",
    "    \n",
    "    \n",
    "    #converting date column into date time\n",
    "    d=df['Date'].str.split(' ',expand=True) #expanding by space\n",
    "    #labelling d\n",
    "    d.rename(columns={0:'date',\n",
    "                 1:'time'},inplace=True)\n",
    "    #adding 2022 to date column\n",
    "    d['date']=d['date'] + '2022'\n",
    "    #turning into date and time types\n",
    "    d['date']=pd.to_datetime(d['date'],format='%d.%m.%Y')\n",
    "\n",
    "    #converting time column into time\n",
    "    #d['time']=pd.to_datetime(d['time'],format='%H:%M')\n",
    "\n",
    "    #merging with the final data set\n",
    "    df=pd.merge(df,d,on=df.index)\n",
    "    \n",
    "    df.drop(columns=['key_0','Date'],inplace=True)\n",
    "    \n",
    "    #creating Columns of No of Goals\n",
    "    df['Total HT Goals']=df['Home Team HT'] + df['Away Team HT']\n",
    "    df['Total FT Goals']=df['Home Team FT'] + df['Away Team FT']\n",
    "    df['FT-HT Goals']=df['Total FT Goals'] - df['Total HT Goals']\n",
    "    \n",
    "    #save csv\n",
    "    return(df)"
   ]
  },
  {
   "cell_type": "code",
   "execution_count": 11,
   "id": "bea6297d",
   "metadata": {},
   "outputs": [
    {
     "name": "stderr",
     "output_type": "stream",
     "text": [
      "<ipython-input-2-9d32f0990916>:4: FutureWarning: The default value of regex will change from True to False in a future version. In addition, single character regular expressions will*not* be treated as literal strings when regex=True.\n",
      "  df['Home Team HT']=df['Home Team HT'].str.replace('(','')\n",
      "<ipython-input-2-9d32f0990916>:5: FutureWarning: The default value of regex will change from True to False in a future version. In addition, single character regular expressions will*not* be treated as literal strings when regex=True.\n",
      "  df['Home Team HT']=df['Home Team HT'].str.replace(')','')\n",
      "<ipython-input-2-9d32f0990916>:7: FutureWarning: The default value of regex will change from True to False in a future version. In addition, single character regular expressions will*not* be treated as literal strings when regex=True.\n",
      "  df['Away Team HT']=df['Away Team HT'].str.replace('(','')\n",
      "<ipython-input-2-9d32f0990916>:8: FutureWarning: The default value of regex will change from True to False in a future version. In addition, single character regular expressions will*not* be treated as literal strings when regex=True.\n",
      "  df['Away Team HT']=df['Away Team HT'].str.replace(')','')\n"
     ]
    }
   ],
   "source": [
    "df2=clean_data(df)"
   ]
  },
  {
   "cell_type": "code",
   "execution_count": 7,
   "id": "d59619e4",
   "metadata": {},
   "outputs": [
    {
     "data": {
      "text/html": [
       "<div>\n",
       "<style scoped>\n",
       "    .dataframe tbody tr th:only-of-type {\n",
       "        vertical-align: middle;\n",
       "    }\n",
       "\n",
       "    .dataframe tbody tr th {\n",
       "        vertical-align: top;\n",
       "    }\n",
       "\n",
       "    .dataframe thead th {\n",
       "        text-align: right;\n",
       "    }\n",
       "</style>\n",
       "<table border=\"1\" class=\"dataframe\">\n",
       "  <thead>\n",
       "    <tr style=\"text-align: right;\">\n",
       "      <th></th>\n",
       "      <th>Home Team</th>\n",
       "      <th>Home Team HT</th>\n",
       "      <th>Home Team FT</th>\n",
       "      <th>Away Team</th>\n",
       "      <th>Away Team HT</th>\n",
       "      <th>Away Team FT</th>\n",
       "      <th>date</th>\n",
       "      <th>time</th>\n",
       "      <th>Total HT Goals</th>\n",
       "      <th>Total FT Goals</th>\n",
       "      <th>FT-HT Goals</th>\n",
       "    </tr>\n",
       "  </thead>\n",
       "  <tbody>\n",
       "    <tr>\n",
       "      <th>0</th>\n",
       "      <td>Tottenham</td>\n",
       "      <td>0</td>\n",
       "      <td>1</td>\n",
       "      <td>Liverpool</td>\n",
       "      <td>2</td>\n",
       "      <td>2</td>\n",
       "      <td>2022-11-06</td>\n",
       "      <td>19:30</td>\n",
       "      <td>2</td>\n",
       "      <td>3</td>\n",
       "      <td>1</td>\n",
       "    </tr>\n",
       "    <tr>\n",
       "      <th>1</th>\n",
       "      <td>Aston Villa</td>\n",
       "      <td>2</td>\n",
       "      <td>3</td>\n",
       "      <td>Manchester Utd</td>\n",
       "      <td>1</td>\n",
       "      <td>1</td>\n",
       "      <td>2022-11-06</td>\n",
       "      <td>17:00</td>\n",
       "      <td>3</td>\n",
       "      <td>4</td>\n",
       "      <td>1</td>\n",
       "    </tr>\n",
       "    <tr>\n",
       "      <th>2</th>\n",
       "      <td>Southampton</td>\n",
       "      <td>0</td>\n",
       "      <td>1</td>\n",
       "      <td>Newcastle</td>\n",
       "      <td>1</td>\n",
       "      <td>4</td>\n",
       "      <td>2022-11-06</td>\n",
       "      <td>17:00</td>\n",
       "      <td>1</td>\n",
       "      <td>5</td>\n",
       "      <td>4</td>\n",
       "    </tr>\n",
       "    <tr>\n",
       "      <th>3</th>\n",
       "      <td>West Ham</td>\n",
       "      <td>1</td>\n",
       "      <td>1</td>\n",
       "      <td>Crystal Palace</td>\n",
       "      <td>1</td>\n",
       "      <td>2</td>\n",
       "      <td>2022-11-06</td>\n",
       "      <td>17:00</td>\n",
       "      <td>2</td>\n",
       "      <td>3</td>\n",
       "      <td>1</td>\n",
       "    </tr>\n",
       "    <tr>\n",
       "      <th>4</th>\n",
       "      <td>Chelsea</td>\n",
       "      <td>0</td>\n",
       "      <td>0</td>\n",
       "      <td>Arsenal</td>\n",
       "      <td>0</td>\n",
       "      <td>1</td>\n",
       "      <td>2022-11-06</td>\n",
       "      <td>15:00</td>\n",
       "      <td>0</td>\n",
       "      <td>1</td>\n",
       "      <td>1</td>\n",
       "    </tr>\n",
       "  </tbody>\n",
       "</table>\n",
       "</div>"
      ],
      "text/plain": [
       "     Home Team  Home Team HT  Home Team FT       Away Team  Away Team HT  \\\n",
       "0    Tottenham             0             1       Liverpool             2   \n",
       "1  Aston Villa             2             3  Manchester Utd             1   \n",
       "2  Southampton             0             1       Newcastle             1   \n",
       "3     West Ham             1             1  Crystal Palace             1   \n",
       "4      Chelsea             0             0         Arsenal             0   \n",
       "\n",
       "   Away Team FT       date   time  Total HT Goals  Total FT Goals  FT-HT Goals  \n",
       "0             2 2022-11-06  19:30               2               3            1  \n",
       "1             1 2022-11-06  17:00               3               4            1  \n",
       "2             4 2022-11-06  17:00               1               5            4  \n",
       "3             2 2022-11-06  17:00               2               3            1  \n",
       "4             1 2022-11-06  15:00               0               1            1  "
      ]
     },
     "execution_count": 7,
     "metadata": {},
     "output_type": "execute_result"
    }
   ],
   "source": [
    "df2.head()"
   ]
  },
  {
   "cell_type": "code",
   "execution_count": 12,
   "id": "39b4e8e0",
   "metadata": {},
   "outputs": [],
   "source": [
    "df2.to_csv('premier league3.csv',index=False)"
   ]
  },
  {
   "cell_type": "code",
   "execution_count": 9,
   "id": "9654c64a",
   "metadata": {},
   "outputs": [
    {
     "name": "stderr",
     "output_type": "stream",
     "text": [
      "<ipython-input-9-085aeb92896f>:7: DeprecationWarning: executable_path has been deprecated, please pass in a Service object\n",
      "  driver=webdriver.Chrome(ChromeDriverManager().install())\n"
     ]
    },
    {
     "name": "stdout",
     "output_type": "stream",
     "text": [
      "[['04.11. 23:00', 'Girona', '(0)', '2', 'Ath Bilbao', '(0)', '1'], ['31.10. 23:00', 'Elche', '(0)', '0', 'Getafe', '(0)', '1']]\n"
     ]
    }
   ],
   "source": [
    "#la liga\n",
    "\"https://www.livesport.com/en/soccer/spain/laliga/results/\"\n",
    "#english premier league\n",
    "#putting an object to have the list\n",
    "element_list=[]\n",
    "\n",
    "driver=webdriver.Chrome(ChromeDriverManager().install())\n",
    "driver.get(\"https://www.livesport.com/en/soccer/spain/laliga/results/\")\n",
    "\n",
    "date=driver.find_elements(By.CLASS_NAME,\"event__time\")\n",
    "home_team=driver.find_elements(By.CLASS_NAME,\"event__participant--home\")\n",
    "home_half=driver.find_elements(By.CLASS_NAME,\"event__part--home.event__part--1\")\n",
    "home_full=driver.find_elements(By.CLASS_NAME,\"event__score--home\")\n",
    "away_team=driver.find_elements(By.CLASS_NAME,\"event__participant--away\")\n",
    "away_half=driver.find_elements(By.CLASS_NAME,\"event__part--away.event__part--1\")\n",
    "away_full=driver.find_elements(By.CLASS_NAME,\"event__score--away\")\n",
    "\n",
    "\n",
    "for i in range(len(date)):\n",
    "    element_list.append([date[i].text,home_team[i].text,home_half[i].text,home_full[i].text,\n",
    "                        away_team[i].text,away_half[i].text,away_full[i].text])\n",
    "print(element_list[:2])\n",
    "\n",
    "#closing the driver\n",
    "driver.close()"
   ]
  },
  {
   "cell_type": "code",
   "execution_count": 10,
   "id": "c35d4232",
   "metadata": {},
   "outputs": [],
   "source": [
    "#making the element list a data frame\n",
    "import pandas as pd \n",
    "# List1 \n",
    "df = pd.DataFrame(element_list, columns =['Date','Home Team','Home Team HT',\n",
    "                                          'Home Team FT','Away Team',\n",
    "                                          'Away Team HT','Away Team FT'],\n",
    "                  dtype = float)\n"
   ]
  },
  {
   "cell_type": "code",
   "execution_count": 11,
   "id": "9afbb49f",
   "metadata": {},
   "outputs": [
    {
     "name": "stderr",
     "output_type": "stream",
     "text": [
      "<ipython-input-5-9d32f0990916>:4: FutureWarning: The default value of regex will change from True to False in a future version. In addition, single character regular expressions will*not* be treated as literal strings when regex=True.\n",
      "  df['Home Team HT']=df['Home Team HT'].str.replace('(','')\n",
      "<ipython-input-5-9d32f0990916>:5: FutureWarning: The default value of regex will change from True to False in a future version. In addition, single character regular expressions will*not* be treated as literal strings when regex=True.\n",
      "  df['Home Team HT']=df['Home Team HT'].str.replace(')','')\n",
      "<ipython-input-5-9d32f0990916>:7: FutureWarning: The default value of regex will change from True to False in a future version. In addition, single character regular expressions will*not* be treated as literal strings when regex=True.\n",
      "  df['Away Team HT']=df['Away Team HT'].str.replace('(','')\n",
      "<ipython-input-5-9d32f0990916>:8: FutureWarning: The default value of regex will change from True to False in a future version. In addition, single character regular expressions will*not* be treated as literal strings when regex=True.\n",
      "  df['Away Team HT']=df['Away Team HT'].str.replace(')','')\n"
     ]
    }
   ],
   "source": [
    "df2=clean_data(df)\n",
    "\n",
    "df2.to_csv('la liga.csv',index=False)"
   ]
  },
  {
   "cell_type": "code",
   "execution_count": 12,
   "id": "6cdd8f2e",
   "metadata": {},
   "outputs": [],
   "source": [
    "#"
   ]
  },
  {
   "cell_type": "code",
   "execution_count": 13,
   "id": "961586c0",
   "metadata": {},
   "outputs": [
    {
     "name": "stderr",
     "output_type": "stream",
     "text": [
      "<ipython-input-13-df2607815c8b>:7: DeprecationWarning: executable_path has been deprecated, please pass in a Service object\n",
      "  driver=webdriver.Chrome(ChromeDriverManager().install())\n"
     ]
    },
    {
     "name": "stdout",
     "output_type": "stream",
     "text": [
      "[['04.11. 23:00', 'Troyes', '(1)', '1', 'Auxerre', '(0)', '1'], ['30.10. 22:45', 'Lyon', '(0)', '1', 'Lille', '(0)', '0']]\n"
     ]
    }
   ],
   "source": [
    "#ligue 1\n",
    "'https://www.livesport.com/en/soccer/france/ligue-1/results/'\n",
    "#english premier league\n",
    "#putting an object to have the list\n",
    "element_list=[]\n",
    "\n",
    "driver=webdriver.Chrome(ChromeDriverManager().install())\n",
    "driver.get(\"https://www.livesport.com/en/soccer/france/ligue-1/results/\")\n",
    "\n",
    "date=driver.find_elements(By.CLASS_NAME,\"event__time\")\n",
    "home_team=driver.find_elements(By.CLASS_NAME,\"event__participant--home\")\n",
    "home_half=driver.find_elements(By.CLASS_NAME,\"event__part--home.event__part--1\")\n",
    "home_full=driver.find_elements(By.CLASS_NAME,\"event__score--home\")\n",
    "away_team=driver.find_elements(By.CLASS_NAME,\"event__participant--away\")\n",
    "away_half=driver.find_elements(By.CLASS_NAME,\"event__part--away.event__part--1\")\n",
    "away_full=driver.find_elements(By.CLASS_NAME,\"event__score--away\")\n",
    "\n",
    "\n",
    "for i in range(len(date)):\n",
    "    element_list.append([date[i].text,home_team[i].text,home_half[i].text,home_full[i].text,\n",
    "                        away_team[i].text,away_half[i].text,away_full[i].text])\n",
    "print(element_list[:2])\n",
    "\n",
    "#closing the driver\n",
    "driver.close()"
   ]
  },
  {
   "cell_type": "code",
   "execution_count": 14,
   "id": "f448f883",
   "metadata": {},
   "outputs": [],
   "source": [
    "#making the element list a data frame\n",
    "import pandas as pd \n",
    "# List1 \n",
    "df = pd.DataFrame(element_list, columns =['Date','Home Team','Home Team HT',\n",
    "                                          'Home Team FT','Away Team',\n",
    "                                          'Away Team HT','Away Team FT'],\n",
    "                  dtype = float)\n"
   ]
  },
  {
   "cell_type": "code",
   "execution_count": 15,
   "id": "b579d6fd",
   "metadata": {},
   "outputs": [
    {
     "name": "stderr",
     "output_type": "stream",
     "text": [
      "<ipython-input-5-9d32f0990916>:4: FutureWarning: The default value of regex will change from True to False in a future version. In addition, single character regular expressions will*not* be treated as literal strings when regex=True.\n",
      "  df['Home Team HT']=df['Home Team HT'].str.replace('(','')\n",
      "<ipython-input-5-9d32f0990916>:5: FutureWarning: The default value of regex will change from True to False in a future version. In addition, single character regular expressions will*not* be treated as literal strings when regex=True.\n",
      "  df['Home Team HT']=df['Home Team HT'].str.replace(')','')\n",
      "<ipython-input-5-9d32f0990916>:7: FutureWarning: The default value of regex will change from True to False in a future version. In addition, single character regular expressions will*not* be treated as literal strings when regex=True.\n",
      "  df['Away Team HT']=df['Away Team HT'].str.replace('(','')\n",
      "<ipython-input-5-9d32f0990916>:8: FutureWarning: The default value of regex will change from True to False in a future version. In addition, single character regular expressions will*not* be treated as literal strings when regex=True.\n",
      "  df['Away Team HT']=df['Away Team HT'].str.replace(')','')\n"
     ]
    }
   ],
   "source": [
    "df2=clean_data(df)\n",
    "\n",
    "df2.to_csv('ligue one.csv',index=False)"
   ]
  },
  {
   "cell_type": "code",
   "execution_count": 6,
   "id": "1451e9bc",
   "metadata": {},
   "outputs": [
    {
     "name": "stderr",
     "output_type": "stream",
     "text": [
      "<ipython-input-6-a1c3eb007103>:7: DeprecationWarning: executable_path has been deprecated, please pass in a Service object\n",
      "  driver=webdriver.Chrome(ChromeDriverManager().install())\n"
     ]
    },
    {
     "name": "stdout",
     "output_type": "stream",
     "text": [
      "[['11.11. 22:30', 'B. Monchengladbach', '(3)', '4', 'Dortmund', '(2)', '2'], ['09.11. 22:30', 'Eintracht Frankfurt', '(3)', '4', 'Hoffenheim', '(1)', '2']]\n"
     ]
    }
   ],
   "source": [
    "#bundesliga\n",
    "\"https://www.livesport.com/en/soccer/germany/bundesliga/results/\"\n",
    "#english premier league\n",
    "#putting an object to have the list\n",
    "element_list=[]\n",
    "\n",
    "driver=webdriver.Chrome(ChromeDriverManager().install())\n",
    "driver.get(\"https://www.livesport.com/en/soccer/germany/bundesliga/results/\")\n",
    "\n",
    "date=driver.find_elements(By.CLASS_NAME,\"event__time\")\n",
    "home_team=driver.find_elements(By.CLASS_NAME,\"event__participant--home\")\n",
    "home_half=driver.find_elements(By.CLASS_NAME,\"event__part--home.event__part--1\")\n",
    "home_full=driver.find_elements(By.CLASS_NAME,\"event__score--home\")\n",
    "away_team=driver.find_elements(By.CLASS_NAME,\"event__participant--away\")\n",
    "away_half=driver.find_elements(By.CLASS_NAME,\"event__part--away.event__part--1\")\n",
    "away_full=driver.find_elements(By.CLASS_NAME,\"event__score--away\")\n",
    "\n",
    "\n",
    "for i in range(len(date)):\n",
    "    element_list.append([date[i].text,home_team[i].text,home_half[i].text,home_full[i].text,\n",
    "                        away_team[i].text,away_half[i].text,away_full[i].text])\n",
    "print(element_list[:2])\n",
    "\n",
    "#closing the driver\n",
    "driver.close()"
   ]
  },
  {
   "cell_type": "code",
   "execution_count": 7,
   "id": "8d932ae6",
   "metadata": {},
   "outputs": [],
   "source": [
    "#making the element list a data frame\n",
    "import pandas as pd \n",
    "# List1 \n",
    "df = pd.DataFrame(element_list, columns =['Date','Home Team','Home Team HT',\n",
    "                                          'Home Team FT','Away Team',\n",
    "                                          'Away Team HT','Away Team FT'],\n",
    "                  dtype = float)\n"
   ]
  },
  {
   "cell_type": "code",
   "execution_count": 8,
   "id": "a0cf0fa7",
   "metadata": {},
   "outputs": [
    {
     "name": "stderr",
     "output_type": "stream",
     "text": [
      "<ipython-input-2-9d32f0990916>:4: FutureWarning: The default value of regex will change from True to False in a future version. In addition, single character regular expressions will*not* be treated as literal strings when regex=True.\n",
      "  df['Home Team HT']=df['Home Team HT'].str.replace('(','')\n",
      "<ipython-input-2-9d32f0990916>:5: FutureWarning: The default value of regex will change from True to False in a future version. In addition, single character regular expressions will*not* be treated as literal strings when regex=True.\n",
      "  df['Home Team HT']=df['Home Team HT'].str.replace(')','')\n",
      "<ipython-input-2-9d32f0990916>:7: FutureWarning: The default value of regex will change from True to False in a future version. In addition, single character regular expressions will*not* be treated as literal strings when regex=True.\n",
      "  df['Away Team HT']=df['Away Team HT'].str.replace('(','')\n",
      "<ipython-input-2-9d32f0990916>:8: FutureWarning: The default value of regex will change from True to False in a future version. In addition, single character regular expressions will*not* be treated as literal strings when regex=True.\n",
      "  df['Away Team HT']=df['Away Team HT'].str.replace(')','')\n"
     ]
    }
   ],
   "source": [
    "df2=clean_data(df)\n",
    "\n",
    "df2.to_csv('bundesliga.csv',index=False)"
   ]
  },
  {
   "cell_type": "code",
   "execution_count": 19,
   "id": "6d111664",
   "metadata": {},
   "outputs": [
    {
     "name": "stderr",
     "output_type": "stream",
     "text": [
      "<ipython-input-19-513b8217ffe8>:7: DeprecationWarning: executable_path has been deprecated, please pass in a Service object\n",
      "  driver=webdriver.Chrome(ChromeDriverManager().install())\n"
     ]
    },
    {
     "name": "stdout",
     "output_type": "stream",
     "text": [
      "[['04.11. 22:45', 'Udinese', '(0)', '1', 'Lecce', '(1)', '1'], ['31.10. 22:45', 'Monza', '(0)', '1', 'Bologna', '(0)', '2']]\n"
     ]
    }
   ],
   "source": [
    "#seria A\n",
    "\"https://www.livesport.com/en/soccer/italy/serie-a/results/\"\n",
    "#english premier league\n",
    "#putting an object to have the list\n",
    "element_list=[]\n",
    "\n",
    "driver=webdriver.Chrome(ChromeDriverManager().install())\n",
    "driver.get(\"https://www.livesport.com/en/soccer/italy/serie-a/results/\")\n",
    "\n",
    "date=driver.find_elements(By.CLASS_NAME,\"event__time\")\n",
    "home_team=driver.find_elements(By.CLASS_NAME,\"event__participant--home\")\n",
    "home_half=driver.find_elements(By.CLASS_NAME,\"event__part--home.event__part--1\")\n",
    "home_full=driver.find_elements(By.CLASS_NAME,\"event__score--home\")\n",
    "away_team=driver.find_elements(By.CLASS_NAME,\"event__participant--away\")\n",
    "away_half=driver.find_elements(By.CLASS_NAME,\"event__part--away.event__part--1\")\n",
    "away_full=driver.find_elements(By.CLASS_NAME,\"event__score--away\")\n",
    "\n",
    "\n",
    "for i in range(len(date)):\n",
    "    element_list.append([date[i].text,home_team[i].text,home_half[i].text,home_full[i].text,\n",
    "                        away_team[i].text,away_half[i].text,away_full[i].text])\n",
    "print(element_list[:2])\n",
    "\n",
    "#closing the driver\n",
    "driver.close()"
   ]
  },
  {
   "cell_type": "code",
   "execution_count": 20,
   "id": "defcf82b",
   "metadata": {},
   "outputs": [],
   "source": [
    "#making the element list a data frame\n",
    "import pandas as pd \n",
    "# List1 \n",
    "df = pd.DataFrame(element_list, columns =['Date','Home Team','Home Team HT',\n",
    "                                          'Home Team FT','Away Team',\n",
    "                                          'Away Team HT','Away Team FT'],\n",
    "                  dtype = float)\n"
   ]
  },
  {
   "cell_type": "code",
   "execution_count": 21,
   "id": "c1cec476",
   "metadata": {},
   "outputs": [
    {
     "name": "stderr",
     "output_type": "stream",
     "text": [
      "<ipython-input-5-9d32f0990916>:4: FutureWarning: The default value of regex will change from True to False in a future version. In addition, single character regular expressions will*not* be treated as literal strings when regex=True.\n",
      "  df['Home Team HT']=df['Home Team HT'].str.replace('(','')\n",
      "<ipython-input-5-9d32f0990916>:5: FutureWarning: The default value of regex will change from True to False in a future version. In addition, single character regular expressions will*not* be treated as literal strings when regex=True.\n",
      "  df['Home Team HT']=df['Home Team HT'].str.replace(')','')\n",
      "<ipython-input-5-9d32f0990916>:7: FutureWarning: The default value of regex will change from True to False in a future version. In addition, single character regular expressions will*not* be treated as literal strings when regex=True.\n",
      "  df['Away Team HT']=df['Away Team HT'].str.replace('(','')\n",
      "<ipython-input-5-9d32f0990916>:8: FutureWarning: The default value of regex will change from True to False in a future version. In addition, single character regular expressions will*not* be treated as literal strings when regex=True.\n",
      "  df['Away Team HT']=df['Away Team HT'].str.replace(')','')\n"
     ]
    }
   ],
   "source": [
    "df2=clean_data(df)\n",
    "\n",
    "df2.to_csv('seriea.csv',index=False)"
   ]
  },
  {
   "cell_type": "code",
   "execution_count": 3,
   "id": "9daafb91",
   "metadata": {},
   "outputs": [
    {
     "name": "stderr",
     "output_type": "stream",
     "text": [
      "<ipython-input-3-9ee5893c6c8f>:7: DeprecationWarning: executable_path has been deprecated, please pass in a Service object\n",
      "  driver=webdriver.Chrome(ChromeDriverManager().install())\n"
     ]
    },
    {
     "name": "stdout",
     "output_type": "stream",
     "text": [
      "[['27.10. 22:00', 'Crvena zvezda', '(1)', '2', 'Trabzonspor', '(1)', '1'], ['27.10. 22:00', 'Ferencvaros', '(0)', '1', 'Monaco', '(1)', '1']]\n"
     ]
    }
   ],
   "source": [
    "#Europa League\n",
    "\"https://www.livesport.com/en/soccer/europe/europa-league/results/\"\n",
    "#english premier league\n",
    "#putting an object to have the list\n",
    "element_list=[]\n",
    "\n",
    "driver=webdriver.Chrome(ChromeDriverManager().install())\n",
    "driver.get(\"https://www.livesport.com/en/soccer/europe/europa-league/results/\")\n",
    "\n",
    "date=driver.find_elements(By.CLASS_NAME,\"event__time\")\n",
    "home_team=driver.find_elements(By.CLASS_NAME,\"event__participant--home\")\n",
    "home_half=driver.find_elements(By.CLASS_NAME,\"event__part--home.event__part--1\")\n",
    "home_full=driver.find_elements(By.CLASS_NAME,\"event__score--home\")\n",
    "away_team=driver.find_elements(By.CLASS_NAME,\"event__participant--away\")\n",
    "away_half=driver.find_elements(By.CLASS_NAME,\"event__part--away.event__part--1\")\n",
    "away_full=driver.find_elements(By.CLASS_NAME,\"event__score--away\")\n",
    "\n",
    "\n",
    "for i in range(len(date)):\n",
    "    element_list.append([date[i].text,home_team[i].text,home_half[i].text,home_full[i].text,\n",
    "                        away_team[i].text,away_half[i].text,away_full[i].text])\n",
    "print(element_list[:2])\n",
    "\n",
    "#closing the driver\n",
    "driver.close()"
   ]
  },
  {
   "cell_type": "code",
   "execution_count": 4,
   "id": "f011aeec",
   "metadata": {},
   "outputs": [],
   "source": [
    "#making the element list a data frame\n",
    "import pandas as pd \n",
    "# List1 \n",
    "df = pd.DataFrame(element_list, columns =['Date','Home Team','Home Team HT',\n",
    "                                          'Home Team FT','Away Team',\n",
    "                                          'Away Team HT','Away Team FT'],\n",
    "                  dtype = float)\n"
   ]
  },
  {
   "cell_type": "code",
   "execution_count": 5,
   "id": "8f8bbb6a",
   "metadata": {},
   "outputs": [
    {
     "name": "stderr",
     "output_type": "stream",
     "text": [
      "<ipython-input-2-9d32f0990916>:4: FutureWarning: The default value of regex will change from True to False in a future version. In addition, single character regular expressions will*not* be treated as literal strings when regex=True.\n",
      "  df['Home Team HT']=df['Home Team HT'].str.replace('(','')\n",
      "<ipython-input-2-9d32f0990916>:5: FutureWarning: The default value of regex will change from True to False in a future version. In addition, single character regular expressions will*not* be treated as literal strings when regex=True.\n",
      "  df['Home Team HT']=df['Home Team HT'].str.replace(')','')\n",
      "<ipython-input-2-9d32f0990916>:7: FutureWarning: The default value of regex will change from True to False in a future version. In addition, single character regular expressions will*not* be treated as literal strings when regex=True.\n",
      "  df['Away Team HT']=df['Away Team HT'].str.replace('(','')\n",
      "<ipython-input-2-9d32f0990916>:8: FutureWarning: The default value of regex will change from True to False in a future version. In addition, single character regular expressions will*not* be treated as literal strings when regex=True.\n",
      "  df['Away Team HT']=df['Away Team HT'].str.replace(')','')\n"
     ]
    }
   ],
   "source": [
    "df2=clean_data(df)\n",
    "\n",
    "df2.to_csv('europa.csv',index=False)"
   ]
  },
  {
   "cell_type": "code",
   "execution_count": 6,
   "id": "533dac10",
   "metadata": {},
   "outputs": [
    {
     "data": {
      "text/html": [
       "<div>\n",
       "<style scoped>\n",
       "    .dataframe tbody tr th:only-of-type {\n",
       "        vertical-align: middle;\n",
       "    }\n",
       "\n",
       "    .dataframe tbody tr th {\n",
       "        vertical-align: top;\n",
       "    }\n",
       "\n",
       "    .dataframe thead th {\n",
       "        text-align: right;\n",
       "    }\n",
       "</style>\n",
       "<table border=\"1\" class=\"dataframe\">\n",
       "  <thead>\n",
       "    <tr style=\"text-align: right;\">\n",
       "      <th></th>\n",
       "      <th>Home Team</th>\n",
       "      <th>Home Team HT</th>\n",
       "      <th>Home Team FT</th>\n",
       "      <th>Away Team</th>\n",
       "      <th>Away Team HT</th>\n",
       "      <th>Away Team FT</th>\n",
       "      <th>date</th>\n",
       "      <th>time</th>\n",
       "      <th>Total HT Goals</th>\n",
       "      <th>Total FT Goals</th>\n",
       "      <th>FT-HT Goals</th>\n",
       "    </tr>\n",
       "  </thead>\n",
       "  <tbody>\n",
       "    <tr>\n",
       "      <th>0</th>\n",
       "      <td>Crvena zvezda</td>\n",
       "      <td>1</td>\n",
       "      <td>2</td>\n",
       "      <td>Trabzonspor</td>\n",
       "      <td>1</td>\n",
       "      <td>1</td>\n",
       "      <td>2022-10-27</td>\n",
       "      <td>22:00</td>\n",
       "      <td>2</td>\n",
       "      <td>3</td>\n",
       "      <td>1</td>\n",
       "    </tr>\n",
       "    <tr>\n",
       "      <th>1</th>\n",
       "      <td>Ferencvaros</td>\n",
       "      <td>0</td>\n",
       "      <td>1</td>\n",
       "      <td>Monaco</td>\n",
       "      <td>1</td>\n",
       "      <td>1</td>\n",
       "      <td>2022-10-27</td>\n",
       "      <td>22:00</td>\n",
       "      <td>1</td>\n",
       "      <td>2</td>\n",
       "      <td>1</td>\n",
       "    </tr>\n",
       "    <tr>\n",
       "      <th>2</th>\n",
       "      <td>Freiburg</td>\n",
       "      <td>0</td>\n",
       "      <td>1</td>\n",
       "      <td>Olympiacos Piraeus</td>\n",
       "      <td>1</td>\n",
       "      <td>1</td>\n",
       "      <td>2022-10-27</td>\n",
       "      <td>22:00</td>\n",
       "      <td>1</td>\n",
       "      <td>2</td>\n",
       "      <td>1</td>\n",
       "    </tr>\n",
       "    <tr>\n",
       "      <th>3</th>\n",
       "      <td>HJK</td>\n",
       "      <td>0</td>\n",
       "      <td>1</td>\n",
       "      <td>AS Roma</td>\n",
       "      <td>1</td>\n",
       "      <td>2</td>\n",
       "      <td>2022-10-27</td>\n",
       "      <td>22:00</td>\n",
       "      <td>1</td>\n",
       "      <td>3</td>\n",
       "      <td>2</td>\n",
       "    </tr>\n",
       "    <tr>\n",
       "      <th>4</th>\n",
       "      <td>Manchester Utd</td>\n",
       "      <td>1</td>\n",
       "      <td>3</td>\n",
       "      <td>Sheriff Tiraspol</td>\n",
       "      <td>0</td>\n",
       "      <td>0</td>\n",
       "      <td>2022-10-27</td>\n",
       "      <td>22:00</td>\n",
       "      <td>1</td>\n",
       "      <td>3</td>\n",
       "      <td>2</td>\n",
       "    </tr>\n",
       "  </tbody>\n",
       "</table>\n",
       "</div>"
      ],
      "text/plain": [
       "        Home Team  Home Team HT  Home Team FT           Away Team  \\\n",
       "0   Crvena zvezda             1             2         Trabzonspor   \n",
       "1     Ferencvaros             0             1              Monaco   \n",
       "2        Freiburg             0             1  Olympiacos Piraeus   \n",
       "3             HJK             0             1             AS Roma   \n",
       "4  Manchester Utd             1             3    Sheriff Tiraspol   \n",
       "\n",
       "   Away Team HT  Away Team FT       date   time  Total HT Goals  \\\n",
       "0             1             1 2022-10-27  22:00               2   \n",
       "1             1             1 2022-10-27  22:00               1   \n",
       "2             1             1 2022-10-27  22:00               1   \n",
       "3             1             2 2022-10-27  22:00               1   \n",
       "4             0             0 2022-10-27  22:00               1   \n",
       "\n",
       "   Total FT Goals  FT-HT Goals  \n",
       "0               3            1  \n",
       "1               2            1  \n",
       "2               2            1  \n",
       "3               3            2  \n",
       "4               3            2  "
      ]
     },
     "execution_count": 6,
     "metadata": {},
     "output_type": "execute_result"
    }
   ],
   "source": [
    "df2.head()"
   ]
  },
  {
   "cell_type": "code",
   "execution_count": 3,
   "id": "cae55b12",
   "metadata": {},
   "outputs": [
    {
     "name": "stderr",
     "output_type": "stream",
     "text": [
      "<ipython-input-3-10cb8f41f39c>:7: DeprecationWarning: executable_path has been deprecated, please pass in a Service object\n",
      "  driver=webdriver.Chrome(ChromeDriverManager().install())\n"
     ]
    },
    {
     "name": "stdout",
     "output_type": "stream",
     "text": [
      "[['11.11. 16:00', 'Opatija', '(0)', '1', 'Zrinski Jurjevac', '(0)', '2'], ['11.11. 16:00', 'Sesvete', '(0)', '0', 'Hrvace', '(2)', '3']]\n"
     ]
    }
   ],
   "source": [
    "#Croatia\n",
    "\"https://www.livesport.com/en/soccer/croatia/druga-nl/results/\"\n",
    "#english premier league\n",
    "#putting an object to have the list\n",
    "element_list=[]\n",
    "\n",
    "driver=webdriver.Chrome(ChromeDriverManager().install())\n",
    "driver.get(\"https://www.livesport.com/en/soccer/croatia/druga-nl/results/\")\n",
    "\n",
    "date=driver.find_elements(By.CLASS_NAME,\"event__time\")\n",
    "home_team=driver.find_elements(By.CLASS_NAME,\"event__participant--home\")\n",
    "home_half=driver.find_elements(By.CLASS_NAME,\"event__part--home.event__part--1\")\n",
    "home_full=driver.find_elements(By.CLASS_NAME,\"event__score--home\")\n",
    "away_team=driver.find_elements(By.CLASS_NAME,\"event__participant--away\")\n",
    "away_half=driver.find_elements(By.CLASS_NAME,\"event__part--away.event__part--1\")\n",
    "away_full=driver.find_elements(By.CLASS_NAME,\"event__score--away\")\n",
    "\n",
    "\n",
    "for i in range(len(date)):\n",
    "    element_list.append([date[i].text,home_team[i].text,home_half[i].text,home_full[i].text,\n",
    "                        away_team[i].text,away_half[i].text,away_full[i].text])\n",
    "print(element_list[:2])\n",
    "\n",
    "#closing the driver\n",
    "driver.close()"
   ]
  },
  {
   "cell_type": "code",
   "execution_count": 4,
   "id": "d3229347",
   "metadata": {},
   "outputs": [],
   "source": [
    "#making the element list a data frame\n",
    "import pandas as pd \n",
    "# List1 \n",
    "df = pd.DataFrame(element_list, columns =['Date','Home Team','Home Team HT',\n",
    "                                          'Home Team FT','Away Team',\n",
    "                                          'Away Team HT','Away Team FT'],\n",
    "                  dtype = float)\n"
   ]
  },
  {
   "cell_type": "code",
   "execution_count": 5,
   "id": "2ad31bc4",
   "metadata": {},
   "outputs": [
    {
     "name": "stderr",
     "output_type": "stream",
     "text": [
      "<ipython-input-2-9d32f0990916>:4: FutureWarning: The default value of regex will change from True to False in a future version. In addition, single character regular expressions will*not* be treated as literal strings when regex=True.\n",
      "  df['Home Team HT']=df['Home Team HT'].str.replace('(','')\n",
      "<ipython-input-2-9d32f0990916>:5: FutureWarning: The default value of regex will change from True to False in a future version. In addition, single character regular expressions will*not* be treated as literal strings when regex=True.\n",
      "  df['Home Team HT']=df['Home Team HT'].str.replace(')','')\n",
      "<ipython-input-2-9d32f0990916>:7: FutureWarning: The default value of regex will change from True to False in a future version. In addition, single character regular expressions will*not* be treated as literal strings when regex=True.\n",
      "  df['Away Team HT']=df['Away Team HT'].str.replace('(','')\n",
      "<ipython-input-2-9d32f0990916>:8: FutureWarning: The default value of regex will change from True to False in a future version. In addition, single character regular expressions will*not* be treated as literal strings when regex=True.\n",
      "  df['Away Team HT']=df['Away Team HT'].str.replace(')','')\n"
     ]
    }
   ],
   "source": [
    "df2=clean_data(df)\n",
    "\n",
    "df2.to_csv('croatia.csv',index=False)"
   ]
  },
  {
   "cell_type": "code",
   "execution_count": 16,
   "id": "3defb215",
   "metadata": {},
   "outputs": [
    {
     "name": "stderr",
     "output_type": "stream",
     "text": [
      "<ipython-input-16-ec0431457f11>:7: DeprecationWarning: executable_path has been deprecated, please pass in a Service object\n",
      "  driver=webdriver.Chrome(ChromeDriverManager().install())\n"
     ]
    },
    {
     "name": "stdout",
     "output_type": "stream",
     "text": [
      "[['12.11. 16:30', 'AlbinoLeffe', '(1)', '1', 'Sangiuliano City', '(0)', '1'], ['12.11. 16:30', 'Arzignano', '(0)', '0', 'Mantova', '(1)', '1']]\n"
     ]
    }
   ],
   "source": [
    "#seric C\n",
    "\"https://www.livesport.com/en/soccer/italy/serie-c-group-a/results/\"\n",
    "#english premier league\n",
    "#putting an object to have the list\n",
    "element_list=[]\n",
    "\n",
    "driver=webdriver.Chrome(ChromeDriverManager().install())\n",
    "driver.get(\"https://www.livesport.com/en/soccer/italy/serie-c-group-a/results/\")\n",
    "\n",
    "date=driver.find_elements(By.CLASS_NAME,\"event__time\")\n",
    "home_team=driver.find_elements(By.CLASS_NAME,\"event__participant--home\")\n",
    "home_half=driver.find_elements(By.CLASS_NAME,\"event__part--home.event__part--1\")\n",
    "home_full=driver.find_elements(By.CLASS_NAME,\"event__score--home\")\n",
    "away_team=driver.find_elements(By.CLASS_NAME,\"event__participant--away\")\n",
    "away_half=driver.find_elements(By.CLASS_NAME,\"event__part--away.event__part--1\")\n",
    "away_full=driver.find_elements(By.CLASS_NAME,\"event__score--away\")\n",
    "\n",
    "\n",
    "for i in range(len(date)):\n",
    "    element_list.append([date[i].text,home_team[i].text,home_half[i].text,home_full[i].text,\n",
    "                        away_team[i].text,away_half[i].text,away_full[i].text])\n",
    "print(element_list[:2])\n",
    "\n",
    "#closing the driver\n",
    "driver.close()"
   ]
  },
  {
   "cell_type": "code",
   "execution_count": 17,
   "id": "23a90eae",
   "metadata": {},
   "outputs": [],
   "source": [
    "#making the element list a data frame\n",
    "import pandas as pd \n",
    "# List1 \n",
    "df = pd.DataFrame(element_list, columns =['Date','Home Team','Home Team HT',\n",
    "                                          'Home Team FT','Away Team',\n",
    "                                          'Away Team HT','Away Team FT'],\n",
    "                  dtype = float)\n"
   ]
  },
  {
   "cell_type": "code",
   "execution_count": 18,
   "id": "4ac7d6bb",
   "metadata": {},
   "outputs": [
    {
     "name": "stderr",
     "output_type": "stream",
     "text": [
      "<ipython-input-2-9d32f0990916>:4: FutureWarning: The default value of regex will change from True to False in a future version. In addition, single character regular expressions will*not* be treated as literal strings when regex=True.\n",
      "  df['Home Team HT']=df['Home Team HT'].str.replace('(','')\n",
      "<ipython-input-2-9d32f0990916>:5: FutureWarning: The default value of regex will change from True to False in a future version. In addition, single character regular expressions will*not* be treated as literal strings when regex=True.\n",
      "  df['Home Team HT']=df['Home Team HT'].str.replace(')','')\n",
      "<ipython-input-2-9d32f0990916>:7: FutureWarning: The default value of regex will change from True to False in a future version. In addition, single character regular expressions will*not* be treated as literal strings when regex=True.\n",
      "  df['Away Team HT']=df['Away Team HT'].str.replace('(','')\n",
      "<ipython-input-2-9d32f0990916>:8: FutureWarning: The default value of regex will change from True to False in a future version. In addition, single character regular expressions will*not* be treated as literal strings when regex=True.\n",
      "  df['Away Team HT']=df['Away Team HT'].str.replace(')','')\n"
     ]
    }
   ],
   "source": [
    "df2=clean_data(df)\n",
    "\n",
    "df2.to_csv('serie c.csv',index=False)"
   ]
  },
  {
   "cell_type": "code",
   "execution_count": 19,
   "id": "497162cf",
   "metadata": {},
   "outputs": [
    {
     "name": "stderr",
     "output_type": "stream",
     "text": [
      "<ipython-input-19-81a4bda32b86>:7: DeprecationWarning: executable_path has been deprecated, please pass in a Service object\n",
      "  driver=webdriver.Chrome(ChromeDriverManager().install())\n"
     ]
    },
    {
     "name": "stdout",
     "output_type": "stream",
     "text": [
      "[['12.11. 17:00', 'St Etienne', '(0)', '0', 'Rodez', '(0)', '2'], ['07.11. 22:45', 'Metz', '(2)', '3', 'St Etienne', '(1)', '2']]\n"
     ]
    }
   ],
   "source": [
    "#ligue 2\n",
    "\"https://www.livesport.com/en/soccer/france/ligue-2/results/\"\n",
    "#english premier league\n",
    "#putting an object to have the list\n",
    "element_list=[]\n",
    "\n",
    "driver=webdriver.Chrome(ChromeDriverManager().install())\n",
    "driver.get(\"https://www.livesport.com/en/soccer/france/ligue-2/results/\")\n",
    "\n",
    "date=driver.find_elements(By.CLASS_NAME,\"event__time\")\n",
    "home_team=driver.find_elements(By.CLASS_NAME,\"event__participant--home\")\n",
    "home_half=driver.find_elements(By.CLASS_NAME,\"event__part--home.event__part--1\")\n",
    "home_full=driver.find_elements(By.CLASS_NAME,\"event__score--home\")\n",
    "away_team=driver.find_elements(By.CLASS_NAME,\"event__participant--away\")\n",
    "away_half=driver.find_elements(By.CLASS_NAME,\"event__part--away.event__part--1\")\n",
    "away_full=driver.find_elements(By.CLASS_NAME,\"event__score--away\")\n",
    "\n",
    "\n",
    "for i in range(len(date)):\n",
    "    element_list.append([date[i].text,home_team[i].text,home_half[i].text,home_full[i].text,\n",
    "                        away_team[i].text,away_half[i].text,away_full[i].text])\n",
    "print(element_list[:2])\n",
    "\n",
    "#closing the driver\n",
    "driver.close()"
   ]
  },
  {
   "cell_type": "code",
   "execution_count": 20,
   "id": "10e55797",
   "metadata": {},
   "outputs": [],
   "source": [
    "#making the element list a data frame\n",
    "import pandas as pd \n",
    "# List1 \n",
    "df = pd.DataFrame(element_list, columns =['Date','Home Team','Home Team HT',\n",
    "                                          'Home Team FT','Away Team',\n",
    "                                          'Away Team HT','Away Team FT'],\n",
    "                  dtype = float)\n"
   ]
  },
  {
   "cell_type": "code",
   "execution_count": 21,
   "id": "609dc836",
   "metadata": {},
   "outputs": [
    {
     "name": "stderr",
     "output_type": "stream",
     "text": [
      "<ipython-input-2-9d32f0990916>:4: FutureWarning: The default value of regex will change from True to False in a future version. In addition, single character regular expressions will*not* be treated as literal strings when regex=True.\n",
      "  df['Home Team HT']=df['Home Team HT'].str.replace('(','')\n",
      "<ipython-input-2-9d32f0990916>:5: FutureWarning: The default value of regex will change from True to False in a future version. In addition, single character regular expressions will*not* be treated as literal strings when regex=True.\n",
      "  df['Home Team HT']=df['Home Team HT'].str.replace(')','')\n",
      "<ipython-input-2-9d32f0990916>:7: FutureWarning: The default value of regex will change from True to False in a future version. In addition, single character regular expressions will*not* be treated as literal strings when regex=True.\n",
      "  df['Away Team HT']=df['Away Team HT'].str.replace('(','')\n",
      "<ipython-input-2-9d32f0990916>:8: FutureWarning: The default value of regex will change from True to False in a future version. In addition, single character regular expressions will*not* be treated as literal strings when regex=True.\n",
      "  df['Away Team HT']=df['Away Team HT'].str.replace(')','')\n"
     ]
    }
   ],
   "source": [
    "df2=clean_data(df)\n",
    "\n",
    "df2.to_csv('ligue 2.csv',index=False)"
   ]
  },
  {
   "cell_type": "code",
   "execution_count": null,
   "id": "661ac81d",
   "metadata": {},
   "outputs": [],
   "source": []
  }
 ],
 "metadata": {
  "kernelspec": {
   "display_name": "Python 3",
   "language": "python",
   "name": "python3"
  },
  "language_info": {
   "codemirror_mode": {
    "name": "ipython",
    "version": 3
   },
   "file_extension": ".py",
   "mimetype": "text/x-python",
   "name": "python",
   "nbconvert_exporter": "python",
   "pygments_lexer": "ipython3",
   "version": "3.8.8"
  }
 },
 "nbformat": 4,
 "nbformat_minor": 5
}
