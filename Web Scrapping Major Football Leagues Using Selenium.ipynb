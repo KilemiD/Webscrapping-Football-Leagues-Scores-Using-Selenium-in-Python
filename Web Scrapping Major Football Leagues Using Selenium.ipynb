{
 "cells": [
  {
   "cell_type": "markdown",
   "id": "352ebe0a",
   "metadata": {},
   "source": [
    "#Webscrapping Major Football Leagues Using Selenium. Importing Required libraries "
   ]
  },
  {
   "cell_type": "code",
   "execution_count": 2,
   "id": "58246caa",
   "metadata": {},
   "outputs": [],
   "source": [
    "#importing necessary libraries #\n",
    "from selenium import webdriver\n",
    "from webdriver_manager.chrome import ChromeDriverManager\n",
    "from selenium.webdriver.support import expected_conditions as EC\n",
    "from selenium.webdriver.support.ui import WebDriverWait\n",
    "from selenium.webdriver.remote.webelement import WebElement\n",
    "from selenium.webdriver.chrome.service import Service\n",
    "#excel dataframe\n",
    "import xlsxwriter\n",
    "#import By for element types\n",
    "from selenium.webdriver.common.by import By\n",
    "#import alert\n",
    "from selenium.webdriver.common.alert import Alert\n",
    "\n",
    "from selenium.common.exceptions import TimeoutException\n",
    "from selenium.common.exceptions import ElementClickInterceptedException"
   ]
  },
  {
   "cell_type": "code",
   "execution_count": null,
   "id": "dbe957e1-b52b-4c6f-9b71-f016614e4cb8",
   "metadata": {},
   "outputs": [],
   "source": [
    "Specifying the objects to obtain specifying the Date, Home Team Name, Home Team Half Time Score, Home Team Full Time Score, Away Team Name, Away Team Half Time Score and Away Team Full Time Score. We will start from the premier league, note that we will use the same function for all the other data sets."
   ]
  },
  {
   "cell_type": "code",
   "execution_count": 6,
   "id": "3ad081a6",
   "metadata": {},
   "outputs": [],
   "source": [
    "#adding a scroll element to the table to add more matches\n",
    "# Get the element that triggers the scrolling action\n",
    "#scroll_element = driver.find_element(By.CLASS_NAME, \"event__more--static\")"
   ]
  },
  {
   "cell_type": "code",
   "execution_count": 3,
   "id": "438f375a",
   "metadata": {},
   "outputs": [],
   "source": [
    "import time"
   ]
  },
  {
   "cell_type": "code",
   "execution_count": 4,
   "id": "295c631d",
   "metadata": {},
   "outputs": [
    {
     "name": "stdout",
     "output_type": "stream",
     "text": [
      "Current working directory: C:\\Users\\John\\Webscrapping-Football-Leagues-Scores-Using-Selenium-in-Python\n"
     ]
    }
   ],
   "source": [
    "#get working directory so we know where to get our chromDriver from\n",
    "import os\n",
    "# Get and print the current working directory\n",
    "current_directory = os.getcwd()\n",
    "print(\"Current working directory:\", current_directory)"
   ]
  },
  {
   "cell_type": "code",
   "execution_count": 20,
   "id": "ce694805",
   "metadata": {},
   "outputs": [],
   "source": [
    "#with new version of chrome the steps to get our chrome web driver have changed\n",
    "service_obj = Service(\"C:\\\\Users\\\\John\\chromedriver-win32\\chromedriver.exe\")\n",
    "driver = webdriver.Chrome(service=service_obj)"
   ]
  },
  {
   "cell_type": "code",
   "execution_count": 21,
   "id": "1a00336f",
   "metadata": {},
   "outputs": [
    {
     "name": "stdout",
     "output_type": "stream",
     "text": [
      "[['14.01. 19:30', 'B. Monchengladbach', '(2)', '3', 'Stuttgart', '(0)', '1'], ['14.01. 17:30', 'Bochum', '(0)', '1', 'Werder Bremen', '(0)', '1'], ['13.01. 20:30', 'Darmstadt', '(0)', '0', 'Dortmund', '(1)', '3']]\n"
     ]
    }
   ],
   "source": [
    "# english premier league\n",
    "#putting an object to have the list\n",
    "element_list=[]\n",
    "\n",
    "driver.get(\"https://www.flashscore.co.ke/football/germany/bundesliga/results/\")\n",
    "\n",
    "#scroll_element = driver.find_element(By.CLASS_NAME, \"event__more--static\")\n",
    "\n",
    "\n",
    "date=driver.find_elements(By.CLASS_NAME,\"event__time\")\n",
    "home_team=driver.find_elements(By.CLASS_NAME,\"event__participant--home\")\n",
    "home_half=driver.find_elements(By.CLASS_NAME,\"event__part--home.event__part--1\")\n",
    "home_full=driver.find_elements(By.CLASS_NAME,\"event__score--home\")\n",
    "away_team=driver.find_elements(By.CLASS_NAME,\"event__participant--away\")\n",
    "away_half=driver.find_elements(By.CLASS_NAME,\"event__part--away.event__part--1\")\n",
    "away_full=driver.find_elements(By.CLASS_NAME,\"event__score--away\")\n",
    "\n",
    "\n",
    "for i in range(len(date)):\n",
    "    element_list.append([date[i].text,home_team[i].text,home_half[i].text,home_full[i].text,\n",
    "                        away_team[i].text,away_half[i].text,away_full[i].text])\n",
    "    \n",
    "    #driver.execute_script(\"arguments[0].click();\",scroll_element)\n",
    "    \n",
    "print(element_list[:3])\n",
    "\n",
    "#closing the driver\n",
    "driver.close()"
   ]
  },
  {
   "cell_type": "code",
   "execution_count": 3,
   "id": "cf9355f3",
   "metadata": {},
   "outputs": [],
   "source": [
    "#turning the element list into a data frame using pandas\n",
    "#i will go to the steps of dealing with each row/column\n",
    "#then maybe finally write a function that does that cleaning in\n",
    "#the above data frame does not look very good"
   ]
  },
  {
   "cell_type": "code",
   "execution_count": 12,
   "id": "a1cb765e",
   "metadata": {},
   "outputs": [
    {
     "data": {
      "text/plain": [
       "109"
      ]
     },
     "execution_count": 12,
     "metadata": {},
     "output_type": "execute_result"
    }
   ],
   "source": [
    "len(element_list) #now I will extract the data with a scrollable element"
   ]
  },
  {
   "cell_type": "markdown",
   "id": "c44e743e",
   "metadata": {},
   "source": [
    "Converting the list of elements obtained into a data frame using Pandas Data Frame"
   ]
  },
  {
   "cell_type": "code",
   "execution_count": 22,
   "id": "4dd41023",
   "metadata": {},
   "outputs": [],
   "source": [
    "#making the element list a data frame\n",
    "import pandas as pd \n",
    "# List1 \n",
    "df = pd.DataFrame(element_list, columns =['Date','Home Team','Home Team HT',\n",
    "                                          'Home Team FT','Away Team',\n",
    "                                          'Away Team HT','Away Team FT'],\n",
    "                  dtype = float)"
   ]
  },
  {
   "cell_type": "code",
   "execution_count": 23,
   "id": "ae99031a",
   "metadata": {},
   "outputs": [
    {
     "name": "stderr",
     "output_type": "stream",
     "text": [
      "<ipython-input-14-9d32f0990916>:4: FutureWarning: The default value of regex will change from True to False in a future version. In addition, single character regular expressions will*not* be treated as literal strings when regex=True.\n",
      "  df['Home Team HT']=df['Home Team HT'].str.replace('(','')\n",
      "<ipython-input-14-9d32f0990916>:5: FutureWarning: The default value of regex will change from True to False in a future version. In addition, single character regular expressions will*not* be treated as literal strings when regex=True.\n",
      "  df['Home Team HT']=df['Home Team HT'].str.replace(')','')\n",
      "<ipython-input-14-9d32f0990916>:7: FutureWarning: The default value of regex will change from True to False in a future version. In addition, single character regular expressions will*not* be treated as literal strings when regex=True.\n",
      "  df['Away Team HT']=df['Away Team HT'].str.replace('(','')\n",
      "<ipython-input-14-9d32f0990916>:8: FutureWarning: The default value of regex will change from True to False in a future version. In addition, single character regular expressions will*not* be treated as literal strings when regex=True.\n",
      "  df['Away Team HT']=df['Away Team HT'].str.replace(')','')\n"
     ]
    }
   ],
   "source": [
    "df2=clean_data(df)"
   ]
  },
  {
   "cell_type": "code",
   "execution_count": 24,
   "id": "c373749d",
   "metadata": {},
   "outputs": [],
   "source": [
    "df2.to_csv('bundesliga-saturday.csv',index=False)"
   ]
  },
  {
   "cell_type": "markdown",
   "id": "12aa50bd",
   "metadata": {},
   "source": [
    "As seen above the data needs some cleaning. First we remove the brackets from the half time scores for both the home team and the away team. Then we deal with separating the date of the match and the time. Also we need to convert the Full Time score into an integer, to represent the number of goals as an integer. So we will make one function to do it all at once."
   ]
  },
  {
   "cell_type": "code",
   "execution_count": 14,
   "id": "760b05f8",
   "metadata": {},
   "outputs": [],
   "source": [
    "#making one data cleaning function for the all data sets\n",
    "def clean_data(df):\n",
    "    #removing the brackets in Half Time Scores\n",
    "    df['Home Team HT']=df['Home Team HT'].str.replace('(','')\n",
    "    df['Home Team HT']=df['Home Team HT'].str.replace(')','')\n",
    "\n",
    "    df['Away Team HT']=df['Away Team HT'].str.replace('(','')\n",
    "    df['Away Team HT']=df['Away Team HT'].str.replace(')','')\n",
    "    \n",
    "    \n",
    "    #converting columns to integers\n",
    "    df['Home Team HT']=df['Home Team HT'].astype(int)\n",
    "    df['Away Team HT']=df['Away Team HT'].astype(int)\n",
    "    df['Home Team FT']=df['Home Team FT'].astype(int)\n",
    "    df['Away Team FT']=df['Away Team FT'].astype(int)\n",
    "    \n",
    "    \n",
    "    #converting date column into date time\n",
    "    d=df['Date'].str.split(' ',expand=True) #expanding by space\n",
    "    #labelling d\n",
    "    d.rename(columns={0:'date',\n",
    "                 1:'time'},inplace=True)\n",
    "    #adding 2024 to date column\n",
    "    d['date']=d['date'] + '2024'\n",
    "    #turning into date and time types\n",
    "    d['date']=pd.to_datetime(d['date'],format='%d.%m.%Y')\n",
    "\n",
    "    #converting time column into time\n",
    "    #d['time']=pd.to_datetime(d['time'],format='%H:%M')\n",
    "\n",
    "    #merging with the final data set\n",
    "    df=pd.merge(df,d,on=df.index)\n",
    "    \n",
    "    df.drop(columns=['key_0','Date'],inplace=True)\n",
    "    \n",
    "    #creating Columns of No of Goals\n",
    "    df['Total HT Goals']=df['Home Team HT'] + df['Away Team HT']\n",
    "    df['Total FT Goals']=df['Home Team FT'] + df['Away Team FT']\n",
    "    df['FT-HT Goals']=df['Total FT Goals'] - df['Total HT Goals']\n",
    "    \n",
    "    #save csv\n",
    "    return(df)"
   ]
  },
  {
   "cell_type": "code",
   "execution_count": 5,
   "id": "bea6297d",
   "metadata": {},
   "outputs": [
    {
     "name": "stderr",
     "output_type": "stream",
     "text": [
      "<ipython-input-4-9d32f0990916>:4: FutureWarning: The default value of regex will change from True to False in a future version. In addition, single character regular expressions will*not* be treated as literal strings when regex=True.\n",
      "  df['Home Team HT']=df['Home Team HT'].str.replace('(','')\n",
      "<ipython-input-4-9d32f0990916>:5: FutureWarning: The default value of regex will change from True to False in a future version. In addition, single character regular expressions will*not* be treated as literal strings when regex=True.\n",
      "  df['Home Team HT']=df['Home Team HT'].str.replace(')','')\n",
      "<ipython-input-4-9d32f0990916>:7: FutureWarning: The default value of regex will change from True to False in a future version. In addition, single character regular expressions will*not* be treated as literal strings when regex=True.\n",
      "  df['Away Team HT']=df['Away Team HT'].str.replace('(','')\n",
      "<ipython-input-4-9d32f0990916>:8: FutureWarning: The default value of regex will change from True to False in a future version. In addition, single character regular expressions will*not* be treated as literal strings when regex=True.\n",
      "  df['Away Team HT']=df['Away Team HT'].str.replace(')','')\n"
     ]
    }
   ],
   "source": [
    "df2=clean_data(df)"
   ]
  },
  {
   "cell_type": "code",
   "execution_count": 6,
   "id": "d59619e4",
   "metadata": {},
   "outputs": [],
   "source": [
    "df2.to_csv('greece ligue 2.csv',index=False)"
   ]
  },
  {
   "cell_type": "code",
   "execution_count": null,
   "id": "1c2ae11e",
   "metadata": {},
   "outputs": [],
   "source": []
  },
  {
   "cell_type": "code",
   "execution_count": 6,
   "id": "07e1c702",
   "metadata": {},
   "outputs": [
    {
     "name": "stderr",
     "output_type": "stream",
     "text": [
      "<ipython-input-6-7abce5e9c5c9>:6: DeprecationWarning: executable_path has been deprecated, please pass in a Service object\n",
      "  driver=webdriver.Chrome(ChromeDriverManager().install())\n"
     ]
    },
    {
     "name": "stdout",
     "output_type": "stream",
     "text": [
      "[['20.12. 22:45', 'Billericay', '(0)', '2', 'Aveley', '(0)', '0'], ['20.12. 22:45', \"Bishop's Stortford\", '(0)', '1', 'Potters Bar', '(0)', '1']]\n"
     ]
    }
   ],
   "source": [
    "#england southern league central division\n",
    "# english premier league\n",
    "#putting an object to have the list\n",
    "element_list=[]\n",
    "\n",
    "driver=webdriver.Chrome(ChromeDriverManager().install())\n",
    "driver.get(\"https://www.livesport.com/en/soccer/england/isthmian-league-premier-division/results/\")\n",
    "\n",
    "date=driver.find_elements(By.CLASS_NAME,\"event__time\")\n",
    "home_team=driver.find_elements(By.CLASS_NAME,\"event__participant--home\")\n",
    "home_half=driver.find_elements(By.CLASS_NAME,\"event__part--home.event__part--1\")\n",
    "home_full=driver.find_elements(By.CLASS_NAME,\"event__score--home\")\n",
    "away_team=driver.find_elements(By.CLASS_NAME,\"event__participant--away\")\n",
    "away_half=driver.find_elements(By.CLASS_NAME,\"event__part--away.event__part--1\")\n",
    "away_full=driver.find_elements(By.CLASS_NAME,\"event__score--away\")\n",
    "\n",
    "\n",
    "for i in range(len(date)):\n",
    "    element_list.append([date[i].text,home_team[i].text,home_half[i].text,home_full[i].text,\n",
    "                        away_team[i].text,away_half[i].text,away_full[i].text])\n",
    "print(element_list[:2])\n",
    "\n",
    "#closing the driver\n",
    "driver.close()"
   ]
  },
  {
   "cell_type": "code",
   "execution_count": 7,
   "id": "ae769bef",
   "metadata": {},
   "outputs": [],
   "source": [
    "#making the element list a data frame\n",
    "import pandas as pd \n",
    "# List1 \n",
    "df = pd.DataFrame(element_list, columns =['Date','Home Team','Home Team HT',\n",
    "                                          'Home Team FT','Away Team',\n",
    "                                          'Away Team HT','Away Team FT'],\n",
    "                  dtype = float)"
   ]
  },
  {
   "cell_type": "code",
   "execution_count": 8,
   "id": "3ac9600f",
   "metadata": {},
   "outputs": [
    {
     "name": "stderr",
     "output_type": "stream",
     "text": [
      "<ipython-input-2-9d32f0990916>:4: FutureWarning: The default value of regex will change from True to False in a future version. In addition, single character regular expressions will*not* be treated as literal strings when regex=True.\n",
      "  df['Home Team HT']=df['Home Team HT'].str.replace('(','')\n",
      "<ipython-input-2-9d32f0990916>:5: FutureWarning: The default value of regex will change from True to False in a future version. In addition, single character regular expressions will*not* be treated as literal strings when regex=True.\n",
      "  df['Home Team HT']=df['Home Team HT'].str.replace(')','')\n",
      "<ipython-input-2-9d32f0990916>:7: FutureWarning: The default value of regex will change from True to False in a future version. In addition, single character regular expressions will*not* be treated as literal strings when regex=True.\n",
      "  df['Away Team HT']=df['Away Team HT'].str.replace('(','')\n",
      "<ipython-input-2-9d32f0990916>:8: FutureWarning: The default value of regex will change from True to False in a future version. In addition, single character regular expressions will*not* be treated as literal strings when regex=True.\n",
      "  df['Away Team HT']=df['Away Team HT'].str.replace(')','')\n"
     ]
    }
   ],
   "source": [
    "df2=clean_data(df)\n",
    "\n",
    "df2.to_csv('england isthmian.csv',index=False)"
   ]
  },
  {
   "cell_type": "code",
   "execution_count": null,
   "id": "d20ee3fa",
   "metadata": {},
   "outputs": [],
   "source": []
  },
  {
   "cell_type": "code",
   "execution_count": 9,
   "id": "9654c64a",
   "metadata": {},
   "outputs": [
    {
     "name": "stderr",
     "output_type": "stream",
     "text": [
      "<ipython-input-9-085aeb92896f>:7: DeprecationWarning: executable_path has been deprecated, please pass in a Service object\n",
      "  driver=webdriver.Chrome(ChromeDriverManager().install())\n"
     ]
    },
    {
     "name": "stdout",
     "output_type": "stream",
     "text": [
      "[['04.11. 23:00', 'Girona', '(0)', '2', 'Ath Bilbao', '(0)', '1'], ['31.10. 23:00', 'Elche', '(0)', '0', 'Getafe', '(0)', '1']]\n"
     ]
    }
   ],
   "source": [
    "#la liga\n",
    "\"https://www.livesport.com/en/soccer/spain/laliga/results/\"\n",
    "#english premier league\n",
    "#putting an object to have the list\n",
    "element_list=[]\n",
    "\n",
    "driver=webdriver.Chrome(ChromeDriverManager().install())\n",
    "driver.get(\"https://www.livesport.com/en/soccer/spain/laliga/results/\")\n",
    "\n",
    "date=driver.find_elements(By.CLASS_NAME,\"event__time\")\n",
    "home_team=driver.find_elements(By.CLASS_NAME,\"event__participant--home\")\n",
    "home_half=driver.find_elements(By.CLASS_NAME,\"event__part--home.event__part--1\")\n",
    "home_full=driver.find_elements(By.CLASS_NAME,\"event__score--home\")\n",
    "away_team=driver.find_elements(By.CLASS_NAME,\"event__participant--away\")\n",
    "away_half=driver.find_elements(By.CLASS_NAME,\"event__part--away.event__part--1\")\n",
    "away_full=driver.find_elements(By.CLASS_NAME,\"event__score--away\")\n",
    "\n",
    "\n",
    "for i in range(len(date)):\n",
    "    element_list.append([date[i].text,home_team[i].text,home_half[i].text,home_full[i].text,\n",
    "                        away_team[i].text,away_half[i].text,away_full[i].text])\n",
    "print(element_list[:2])\n",
    "\n",
    "#closing the driver\n",
    "driver.close()"
   ]
  },
  {
   "cell_type": "code",
   "execution_count": 10,
   "id": "c35d4232",
   "metadata": {},
   "outputs": [],
   "source": [
    "#making the element list a data frame\n",
    "import pandas as pd \n",
    "# List1 \n",
    "df = pd.DataFrame(element_list, columns =['Date','Home Team','Home Team HT',\n",
    "                                          'Home Team FT','Away Team',\n",
    "                                          'Away Team HT','Away Team FT'],\n",
    "                  dtype = float)"
   ]
  },
  {
   "cell_type": "code",
   "execution_count": null,
   "id": "72336200",
   "metadata": {},
   "outputs": [],
   "source": []
  },
  {
   "cell_type": "code",
   "execution_count": 12,
   "id": "39b4e8e0",
   "metadata": {},
   "outputs": [],
   "source": [
    "df2.to_csv('premier league3.csv',index=False)"
   ]
  },
  {
   "cell_type": "code",
   "execution_count": 11,
   "id": "9afbb49f",
   "metadata": {},
   "outputs": [
    {
     "name": "stderr",
     "output_type": "stream",
     "text": [
      "<ipython-input-5-9d32f0990916>:4: FutureWarning: The default value of regex will change from True to False in a future version. In addition, single character regular expressions will*not* be treated as literal strings when regex=True.\n",
      "  df['Home Team HT']=df['Home Team HT'].str.replace('(','')\n",
      "<ipython-input-5-9d32f0990916>:5: FutureWarning: The default value of regex will change from True to False in a future version. In addition, single character regular expressions will*not* be treated as literal strings when regex=True.\n",
      "  df['Home Team HT']=df['Home Team HT'].str.replace(')','')\n",
      "<ipython-input-5-9d32f0990916>:7: FutureWarning: The default value of regex will change from True to False in a future version. In addition, single character regular expressions will*not* be treated as literal strings when regex=True.\n",
      "  df['Away Team HT']=df['Away Team HT'].str.replace('(','')\n",
      "<ipython-input-5-9d32f0990916>:8: FutureWarning: The default value of regex will change from True to False in a future version. In addition, single character regular expressions will*not* be treated as literal strings when regex=True.\n",
      "  df['Away Team HT']=df['Away Team HT'].str.replace(')','')\n"
     ]
    }
   ],
   "source": [
    "df2=clean_data(df)\n",
    "\n",
    "df2.to_csv('la liga.csv',index=False)"
   ]
  },
  {
   "cell_type": "code",
   "execution_count": 12,
   "id": "6cdd8f2e",
   "metadata": {},
   "outputs": [],
   "source": [
    "#"
   ]
  },
  {
   "cell_type": "code",
   "execution_count": 13,
   "id": "961586c0",
   "metadata": {},
   "outputs": [
    {
     "name": "stderr",
     "output_type": "stream",
     "text": [
      "<ipython-input-13-df2607815c8b>:7: DeprecationWarning: executable_path has been deprecated, please pass in a Service object\n",
      "  driver=webdriver.Chrome(ChromeDriverManager().install())\n"
     ]
    },
    {
     "name": "stdout",
     "output_type": "stream",
     "text": [
      "[['04.11. 23:00', 'Troyes', '(1)', '1', 'Auxerre', '(0)', '1'], ['30.10. 22:45', 'Lyon', '(0)', '1', 'Lille', '(0)', '0']]\n"
     ]
    }
   ],
   "source": [
    "#ligue 1\n",
    "'https://www.livesport.com/en/soccer/france/ligue-1/results/'\n",
    "#english premier league\n",
    "#putting an object to have the list\n",
    "element_list=[]\n",
    "\n",
    "driver=webdriver.Chrome(ChromeDriverManager().install())\n",
    "driver.get(\"https://www.livesport.com/en/soccer/france/ligue-1/results/\")\n",
    "\n",
    "date=driver.find_elements(By.CLASS_NAME,\"event__time\")\n",
    "home_team=driver.find_elements(By.CLASS_NAME,\"event__participant--home\")\n",
    "home_half=driver.find_elements(By.CLASS_NAME,\"event__part--home.event__part--1\")\n",
    "home_full=driver.find_elements(By.CLASS_NAME,\"event__score--home\")\n",
    "away_team=driver.find_elements(By.CLASS_NAME,\"event__participant--away\")\n",
    "away_half=driver.find_elements(By.CLASS_NAME,\"event__part--away.event__part--1\")\n",
    "away_full=driver.find_elements(By.CLASS_NAME,\"event__score--away\")\n",
    "\n",
    "\n",
    "for i in range(len(date)):\n",
    "    element_list.append([date[i].text,home_team[i].text,home_half[i].text,home_full[i].text,\n",
    "                        away_team[i].text,away_half[i].text,away_full[i].text])\n",
    "print(element_list[:2])\n",
    "\n",
    "#closing the driver\n",
    "driver.close()"
   ]
  },
  {
   "cell_type": "code",
   "execution_count": 14,
   "id": "f448f883",
   "metadata": {},
   "outputs": [],
   "source": [
    "#making the element list a data frame\n",
    "import pandas as pd \n",
    "# List1 \n",
    "df = pd.DataFrame(element_list, columns =['Date','Home Team','Home Team HT',\n",
    "                                          'Home Team FT','Away Team',\n",
    "                                          'Away Team HT','Away Team FT'],\n",
    "                  dtype = float)\n"
   ]
  },
  {
   "cell_type": "code",
   "execution_count": 15,
   "id": "b579d6fd",
   "metadata": {},
   "outputs": [
    {
     "name": "stderr",
     "output_type": "stream",
     "text": [
      "<ipython-input-5-9d32f0990916>:4: FutureWarning: The default value of regex will change from True to False in a future version. In addition, single character regular expressions will*not* be treated as literal strings when regex=True.\n",
      "  df['Home Team HT']=df['Home Team HT'].str.replace('(','')\n",
      "<ipython-input-5-9d32f0990916>:5: FutureWarning: The default value of regex will change from True to False in a future version. In addition, single character regular expressions will*not* be treated as literal strings when regex=True.\n",
      "  df['Home Team HT']=df['Home Team HT'].str.replace(')','')\n",
      "<ipython-input-5-9d32f0990916>:7: FutureWarning: The default value of regex will change from True to False in a future version. In addition, single character regular expressions will*not* be treated as literal strings when regex=True.\n",
      "  df['Away Team HT']=df['Away Team HT'].str.replace('(','')\n",
      "<ipython-input-5-9d32f0990916>:8: FutureWarning: The default value of regex will change from True to False in a future version. In addition, single character regular expressions will*not* be treated as literal strings when regex=True.\n",
      "  df['Away Team HT']=df['Away Team HT'].str.replace(')','')\n"
     ]
    }
   ],
   "source": [
    "df2=clean_data(df)\n",
    "\n",
    "df2.to_csv('ligue one.csv',index=False)"
   ]
  },
  {
   "cell_type": "code",
   "execution_count": 6,
   "id": "1451e9bc",
   "metadata": {},
   "outputs": [
    {
     "name": "stderr",
     "output_type": "stream",
     "text": [
      "<ipython-input-6-a1c3eb007103>:7: DeprecationWarning: executable_path has been deprecated, please pass in a Service object\n",
      "  driver=webdriver.Chrome(ChromeDriverManager().install())\n"
     ]
    },
    {
     "name": "stdout",
     "output_type": "stream",
     "text": [
      "[['11.11. 22:30', 'B. Monchengladbach', '(3)', '4', 'Dortmund', '(2)', '2'], ['09.11. 22:30', 'Eintracht Frankfurt', '(3)', '4', 'Hoffenheim', '(1)', '2']]\n"
     ]
    }
   ],
   "source": [
    "#bundesliga\n",
    "\"https://www.livesport.com/en/soccer/germany/bundesliga/results/\"\n",
    "#english premier league\n",
    "#putting an object to have the list\n",
    "element_list=[]\n",
    "\n",
    "driver=webdriver.Chrome(ChromeDriverManager().install())\n",
    "driver.get(\"https://www.livesport.com/en/soccer/germany/bundesliga/results/\")\n",
    "\n",
    "date=driver.find_elements(By.CLASS_NAME,\"event__time\")\n",
    "home_team=driver.find_elements(By.CLASS_NAME,\"event__participant--home\")\n",
    "home_half=driver.find_elements(By.CLASS_NAME,\"event__part--home.event__part--1\")\n",
    "home_full=driver.find_elements(By.CLASS_NAME,\"event__score--home\")\n",
    "away_team=driver.find_elements(By.CLASS_NAME,\"event__participant--away\")\n",
    "away_half=driver.find_elements(By.CLASS_NAME,\"event__part--away.event__part--1\")\n",
    "away_full=driver.find_elements(By.CLASS_NAME,\"event__score--away\")\n",
    "\n",
    "\n",
    "for i in range(len(date)):\n",
    "    element_list.append([date[i].text,home_team[i].text,home_half[i].text,home_full[i].text,\n",
    "                        away_team[i].text,away_half[i].text,away_full[i].text])\n",
    "print(element_list[:2])\n",
    "\n",
    "#closing the driver\n",
    "driver.close()"
   ]
  },
  {
   "cell_type": "code",
   "execution_count": 7,
   "id": "8d932ae6",
   "metadata": {},
   "outputs": [],
   "source": [
    "#making the element list a data frame\n",
    "import pandas as pd \n",
    "# List1 \n",
    "df = pd.DataFrame(element_list, columns =['Date','Home Team','Home Team HT',\n",
    "                                          'Home Team FT','Away Team',\n",
    "                                          'Away Team HT','Away Team FT'],\n",
    "                  dtype = float)\n"
   ]
  },
  {
   "cell_type": "code",
   "execution_count": 8,
   "id": "a0cf0fa7",
   "metadata": {},
   "outputs": [
    {
     "name": "stderr",
     "output_type": "stream",
     "text": [
      "<ipython-input-2-9d32f0990916>:4: FutureWarning: The default value of regex will change from True to False in a future version. In addition, single character regular expressions will*not* be treated as literal strings when regex=True.\n",
      "  df['Home Team HT']=df['Home Team HT'].str.replace('(','')\n",
      "<ipython-input-2-9d32f0990916>:5: FutureWarning: The default value of regex will change from True to False in a future version. In addition, single character regular expressions will*not* be treated as literal strings when regex=True.\n",
      "  df['Home Team HT']=df['Home Team HT'].str.replace(')','')\n",
      "<ipython-input-2-9d32f0990916>:7: FutureWarning: The default value of regex will change from True to False in a future version. In addition, single character regular expressions will*not* be treated as literal strings when regex=True.\n",
      "  df['Away Team HT']=df['Away Team HT'].str.replace('(','')\n",
      "<ipython-input-2-9d32f0990916>:8: FutureWarning: The default value of regex will change from True to False in a future version. In addition, single character regular expressions will*not* be treated as literal strings when regex=True.\n",
      "  df['Away Team HT']=df['Away Team HT'].str.replace(')','')\n"
     ]
    }
   ],
   "source": [
    "df2=clean_data(df)\n",
    "\n",
    "df2.to_csv('bundesliga.csv',index=False)"
   ]
  },
  {
   "cell_type": "code",
   "execution_count": 19,
   "id": "6d111664",
   "metadata": {},
   "outputs": [
    {
     "name": "stderr",
     "output_type": "stream",
     "text": [
      "<ipython-input-19-513b8217ffe8>:7: DeprecationWarning: executable_path has been deprecated, please pass in a Service object\n",
      "  driver=webdriver.Chrome(ChromeDriverManager().install())\n"
     ]
    },
    {
     "name": "stdout",
     "output_type": "stream",
     "text": [
      "[['04.11. 22:45', 'Udinese', '(0)', '1', 'Lecce', '(1)', '1'], ['31.10. 22:45', 'Monza', '(0)', '1', 'Bologna', '(0)', '2']]\n"
     ]
    }
   ],
   "source": [
    "#seria A\n",
    "\"https://www.livesport.com/en/soccer/italy/serie-a/results/\"\n",
    "#english premier league\n",
    "#putting an object to have the list\n",
    "element_list=[]\n",
    "\n",
    "driver=webdriver.Chrome(ChromeDriverManager().install())\n",
    "driver.get(\"https://www.livesport.com/en/soccer/italy/serie-a/results/\")\n",
    "\n",
    "date=driver.find_elements(By.CLASS_NAME,\"event__time\")\n",
    "home_team=driver.find_elements(By.CLASS_NAME,\"event__participant--home\")\n",
    "home_half=driver.find_elements(By.CLASS_NAME,\"event__part--home.event__part--1\")\n",
    "home_full=driver.find_elements(By.CLASS_NAME,\"event__score--home\")\n",
    "away_team=driver.find_elements(By.CLASS_NAME,\"event__participant--away\")\n",
    "away_half=driver.find_elements(By.CLASS_NAME,\"event__part--away.event__part--1\")\n",
    "away_full=driver.find_elements(By.CLASS_NAME,\"event__score--away\")\n",
    "\n",
    "\n",
    "for i in range(len(date)):\n",
    "    element_list.append([date[i].text,home_team[i].text,home_half[i].text,home_full[i].text,\n",
    "                        away_team[i].text,away_half[i].text,away_full[i].text])\n",
    "print(element_list[:2])\n",
    "\n",
    "#closing the driver\n",
    "driver.close()"
   ]
  },
  {
   "cell_type": "code",
   "execution_count": 20,
   "id": "defcf82b",
   "metadata": {},
   "outputs": [],
   "source": [
    "#making the element list a data frame\n",
    "import pandas as pd \n",
    "# List1 \n",
    "df = pd.DataFrame(element_list, columns =['Date','Home Team','Home Team HT',\n",
    "                                          'Home Team FT','Away Team',\n",
    "                                          'Away Team HT','Away Team FT'],\n",
    "                  dtype = float)\n"
   ]
  },
  {
   "cell_type": "code",
   "execution_count": 21,
   "id": "c1cec476",
   "metadata": {},
   "outputs": [
    {
     "name": "stderr",
     "output_type": "stream",
     "text": [
      "<ipython-input-5-9d32f0990916>:4: FutureWarning: The default value of regex will change from True to False in a future version. In addition, single character regular expressions will*not* be treated as literal strings when regex=True.\n",
      "  df['Home Team HT']=df['Home Team HT'].str.replace('(','')\n",
      "<ipython-input-5-9d32f0990916>:5: FutureWarning: The default value of regex will change from True to False in a future version. In addition, single character regular expressions will*not* be treated as literal strings when regex=True.\n",
      "  df['Home Team HT']=df['Home Team HT'].str.replace(')','')\n",
      "<ipython-input-5-9d32f0990916>:7: FutureWarning: The default value of regex will change from True to False in a future version. In addition, single character regular expressions will*not* be treated as literal strings when regex=True.\n",
      "  df['Away Team HT']=df['Away Team HT'].str.replace('(','')\n",
      "<ipython-input-5-9d32f0990916>:8: FutureWarning: The default value of regex will change from True to False in a future version. In addition, single character regular expressions will*not* be treated as literal strings when regex=True.\n",
      "  df['Away Team HT']=df['Away Team HT'].str.replace(')','')\n"
     ]
    }
   ],
   "source": [
    "df2=clean_data(df)\n",
    "\n",
    "df2.to_csv('seriea.csv',index=False)"
   ]
  },
  {
   "cell_type": "code",
   "execution_count": 3,
   "id": "9daafb91",
   "metadata": {},
   "outputs": [
    {
     "name": "stderr",
     "output_type": "stream",
     "text": [
      "<ipython-input-3-9ee5893c6c8f>:7: DeprecationWarning: executable_path has been deprecated, please pass in a Service object\n",
      "  driver=webdriver.Chrome(ChromeDriverManager().install())\n"
     ]
    },
    {
     "name": "stdout",
     "output_type": "stream",
     "text": [
      "[['27.10. 22:00', 'Crvena zvezda', '(1)', '2', 'Trabzonspor', '(1)', '1'], ['27.10. 22:00', 'Ferencvaros', '(0)', '1', 'Monaco', '(1)', '1']]\n"
     ]
    }
   ],
   "source": [
    "#Europa League\n",
    "\"https://www.livesport.com/en/soccer/europe/europa-league/results/\"\n",
    "#english premier league\n",
    "#putting an object to have the list\n",
    "element_list=[]\n",
    "\n",
    "driver=webdriver.Chrome(ChromeDriverManager().install())\n",
    "driver.get(\"https://www.livesport.com/en/soccer/europe/europa-league/results/\")\n",
    "\n",
    "date=driver.find_elements(By.CLASS_NAME,\"event__time\")\n",
    "home_team=driver.find_elements(By.CLASS_NAME,\"event__participant--home\")\n",
    "home_half=driver.find_elements(By.CLASS_NAME,\"event__part--home.event__part--1\")\n",
    "home_full=driver.find_elements(By.CLASS_NAME,\"event__score--home\")\n",
    "away_team=driver.find_elements(By.CLASS_NAME,\"event__participant--away\")\n",
    "away_half=driver.find_elements(By.CLASS_NAME,\"event__part--away.event__part--1\")\n",
    "away_full=driver.find_elements(By.CLASS_NAME,\"event__score--away\")\n",
    "\n",
    "\n",
    "for i in range(len(date)):\n",
    "    element_list.append([date[i].text,home_team[i].text,home_half[i].text,home_full[i].text,\n",
    "                        away_team[i].text,away_half[i].text,away_full[i].text])\n",
    "print(element_list[:2])\n",
    "\n",
    "#closing the driver\n",
    "driver.close()"
   ]
  },
  {
   "cell_type": "code",
   "execution_count": 4,
   "id": "f011aeec",
   "metadata": {},
   "outputs": [],
   "source": [
    "#making the element list a data frame\n",
    "import pandas as pd \n",
    "# List1 \n",
    "df = pd.DataFrame(element_list, columns =['Date','Home Team','Home Team HT',\n",
    "                                          'Home Team FT','Away Team',\n",
    "                                          'Away Team HT','Away Team FT'],\n",
    "                  dtype = float)\n"
   ]
  },
  {
   "cell_type": "code",
   "execution_count": 5,
   "id": "8f8bbb6a",
   "metadata": {},
   "outputs": [
    {
     "name": "stderr",
     "output_type": "stream",
     "text": [
      "<ipython-input-2-9d32f0990916>:4: FutureWarning: The default value of regex will change from True to False in a future version. In addition, single character regular expressions will*not* be treated as literal strings when regex=True.\n",
      "  df['Home Team HT']=df['Home Team HT'].str.replace('(','')\n",
      "<ipython-input-2-9d32f0990916>:5: FutureWarning: The default value of regex will change from True to False in a future version. In addition, single character regular expressions will*not* be treated as literal strings when regex=True.\n",
      "  df['Home Team HT']=df['Home Team HT'].str.replace(')','')\n",
      "<ipython-input-2-9d32f0990916>:7: FutureWarning: The default value of regex will change from True to False in a future version. In addition, single character regular expressions will*not* be treated as literal strings when regex=True.\n",
      "  df['Away Team HT']=df['Away Team HT'].str.replace('(','')\n",
      "<ipython-input-2-9d32f0990916>:8: FutureWarning: The default value of regex will change from True to False in a future version. In addition, single character regular expressions will*not* be treated as literal strings when regex=True.\n",
      "  df['Away Team HT']=df['Away Team HT'].str.replace(')','')\n"
     ]
    }
   ],
   "source": [
    "df2=clean_data(df)\n",
    "\n",
    "df2.to_csv('europa.csv',index=False)"
   ]
  },
  {
   "cell_type": "code",
   "execution_count": 6,
   "id": "533dac10",
   "metadata": {},
   "outputs": [
    {
     "data": {
      "text/html": [
       "<div>\n",
       "<style scoped>\n",
       "    .dataframe tbody tr th:only-of-type {\n",
       "        vertical-align: middle;\n",
       "    }\n",
       "\n",
       "    .dataframe tbody tr th {\n",
       "        vertical-align: top;\n",
       "    }\n",
       "\n",
       "    .dataframe thead th {\n",
       "        text-align: right;\n",
       "    }\n",
       "</style>\n",
       "<table border=\"1\" class=\"dataframe\">\n",
       "  <thead>\n",
       "    <tr style=\"text-align: right;\">\n",
       "      <th></th>\n",
       "      <th>Home Team</th>\n",
       "      <th>Home Team HT</th>\n",
       "      <th>Home Team FT</th>\n",
       "      <th>Away Team</th>\n",
       "      <th>Away Team HT</th>\n",
       "      <th>Away Team FT</th>\n",
       "      <th>date</th>\n",
       "      <th>time</th>\n",
       "      <th>Total HT Goals</th>\n",
       "      <th>Total FT Goals</th>\n",
       "      <th>FT-HT Goals</th>\n",
       "    </tr>\n",
       "  </thead>\n",
       "  <tbody>\n",
       "    <tr>\n",
       "      <th>0</th>\n",
       "      <td>Crvena zvezda</td>\n",
       "      <td>1</td>\n",
       "      <td>2</td>\n",
       "      <td>Trabzonspor</td>\n",
       "      <td>1</td>\n",
       "      <td>1</td>\n",
       "      <td>2022-10-27</td>\n",
       "      <td>22:00</td>\n",
       "      <td>2</td>\n",
       "      <td>3</td>\n",
       "      <td>1</td>\n",
       "    </tr>\n",
       "    <tr>\n",
       "      <th>1</th>\n",
       "      <td>Ferencvaros</td>\n",
       "      <td>0</td>\n",
       "      <td>1</td>\n",
       "      <td>Monaco</td>\n",
       "      <td>1</td>\n",
       "      <td>1</td>\n",
       "      <td>2022-10-27</td>\n",
       "      <td>22:00</td>\n",
       "      <td>1</td>\n",
       "      <td>2</td>\n",
       "      <td>1</td>\n",
       "    </tr>\n",
       "    <tr>\n",
       "      <th>2</th>\n",
       "      <td>Freiburg</td>\n",
       "      <td>0</td>\n",
       "      <td>1</td>\n",
       "      <td>Olympiacos Piraeus</td>\n",
       "      <td>1</td>\n",
       "      <td>1</td>\n",
       "      <td>2022-10-27</td>\n",
       "      <td>22:00</td>\n",
       "      <td>1</td>\n",
       "      <td>2</td>\n",
       "      <td>1</td>\n",
       "    </tr>\n",
       "    <tr>\n",
       "      <th>3</th>\n",
       "      <td>HJK</td>\n",
       "      <td>0</td>\n",
       "      <td>1</td>\n",
       "      <td>AS Roma</td>\n",
       "      <td>1</td>\n",
       "      <td>2</td>\n",
       "      <td>2022-10-27</td>\n",
       "      <td>22:00</td>\n",
       "      <td>1</td>\n",
       "      <td>3</td>\n",
       "      <td>2</td>\n",
       "    </tr>\n",
       "    <tr>\n",
       "      <th>4</th>\n",
       "      <td>Manchester Utd</td>\n",
       "      <td>1</td>\n",
       "      <td>3</td>\n",
       "      <td>Sheriff Tiraspol</td>\n",
       "      <td>0</td>\n",
       "      <td>0</td>\n",
       "      <td>2022-10-27</td>\n",
       "      <td>22:00</td>\n",
       "      <td>1</td>\n",
       "      <td>3</td>\n",
       "      <td>2</td>\n",
       "    </tr>\n",
       "  </tbody>\n",
       "</table>\n",
       "</div>"
      ],
      "text/plain": [
       "        Home Team  Home Team HT  Home Team FT           Away Team  \\\n",
       "0   Crvena zvezda             1             2         Trabzonspor   \n",
       "1     Ferencvaros             0             1              Monaco   \n",
       "2        Freiburg             0             1  Olympiacos Piraeus   \n",
       "3             HJK             0             1             AS Roma   \n",
       "4  Manchester Utd             1             3    Sheriff Tiraspol   \n",
       "\n",
       "   Away Team HT  Away Team FT       date   time  Total HT Goals  \\\n",
       "0             1             1 2022-10-27  22:00               2   \n",
       "1             1             1 2022-10-27  22:00               1   \n",
       "2             1             1 2022-10-27  22:00               1   \n",
       "3             1             2 2022-10-27  22:00               1   \n",
       "4             0             0 2022-10-27  22:00               1   \n",
       "\n",
       "   Total FT Goals  FT-HT Goals  \n",
       "0               3            1  \n",
       "1               2            1  \n",
       "2               2            1  \n",
       "3               3            2  \n",
       "4               3            2  "
      ]
     },
     "execution_count": 6,
     "metadata": {},
     "output_type": "execute_result"
    }
   ],
   "source": [
    "df2.head()"
   ]
  },
  {
   "cell_type": "code",
   "execution_count": 3,
   "id": "cae55b12",
   "metadata": {},
   "outputs": [
    {
     "name": "stderr",
     "output_type": "stream",
     "text": [
      "<ipython-input-3-10cb8f41f39c>:7: DeprecationWarning: executable_path has been deprecated, please pass in a Service object\n",
      "  driver=webdriver.Chrome(ChromeDriverManager().install())\n"
     ]
    },
    {
     "name": "stdout",
     "output_type": "stream",
     "text": [
      "[['11.11. 16:00', 'Opatija', '(0)', '1', 'Zrinski Jurjevac', '(0)', '2'], ['11.11. 16:00', 'Sesvete', '(0)', '0', 'Hrvace', '(2)', '3']]\n"
     ]
    }
   ],
   "source": [
    "#Croatia\n",
    "\"https://www.livesport.com/en/soccer/croatia/druga-nl/results/\"\n",
    "#english premier league\n",
    "#putting an object to have the list\n",
    "element_list=[]\n",
    "\n",
    "driver=webdriver.Chrome(ChromeDriverManager().install())\n",
    "driver.get(\"https://www.livesport.com/en/soccer/croatia/druga-nl/results/\")\n",
    "\n",
    "date=driver.find_elements(By.CLASS_NAME,\"event__time\")\n",
    "home_team=driver.find_elements(By.CLASS_NAME,\"event__participant--home\")\n",
    "home_half=driver.find_elements(By.CLASS_NAME,\"event__part--home.event__part--1\")\n",
    "home_full=driver.find_elements(By.CLASS_NAME,\"event__score--home\")\n",
    "away_team=driver.find_elements(By.CLASS_NAME,\"event__participant--away\")\n",
    "away_half=driver.find_elements(By.CLASS_NAME,\"event__part--away.event__part--1\")\n",
    "away_full=driver.find_elements(By.CLASS_NAME,\"event__score--away\")\n",
    "\n",
    "\n",
    "for i in range(len(date)):\n",
    "    element_list.append([date[i].text,home_team[i].text,home_half[i].text,home_full[i].text,\n",
    "                        away_team[i].text,away_half[i].text,away_full[i].text])\n",
    "print(element_list[:2])\n",
    "\n",
    "#closing the driver\n",
    "driver.close()"
   ]
  },
  {
   "cell_type": "code",
   "execution_count": 4,
   "id": "d3229347",
   "metadata": {},
   "outputs": [],
   "source": [
    "#making the element list a data frame\n",
    "import pandas as pd \n",
    "# List1 \n",
    "df = pd.DataFrame(element_list, columns =['Date','Home Team','Home Team HT',\n",
    "                                          'Home Team FT','Away Team',\n",
    "                                          'Away Team HT','Away Team FT'],\n",
    "                  dtype = float)\n"
   ]
  },
  {
   "cell_type": "code",
   "execution_count": 5,
   "id": "2ad31bc4",
   "metadata": {},
   "outputs": [
    {
     "name": "stderr",
     "output_type": "stream",
     "text": [
      "<ipython-input-2-9d32f0990916>:4: FutureWarning: The default value of regex will change from True to False in a future version. In addition, single character regular expressions will*not* be treated as literal strings when regex=True.\n",
      "  df['Home Team HT']=df['Home Team HT'].str.replace('(','')\n",
      "<ipython-input-2-9d32f0990916>:5: FutureWarning: The default value of regex will change from True to False in a future version. In addition, single character regular expressions will*not* be treated as literal strings when regex=True.\n",
      "  df['Home Team HT']=df['Home Team HT'].str.replace(')','')\n",
      "<ipython-input-2-9d32f0990916>:7: FutureWarning: The default value of regex will change from True to False in a future version. In addition, single character regular expressions will*not* be treated as literal strings when regex=True.\n",
      "  df['Away Team HT']=df['Away Team HT'].str.replace('(','')\n",
      "<ipython-input-2-9d32f0990916>:8: FutureWarning: The default value of regex will change from True to False in a future version. In addition, single character regular expressions will*not* be treated as literal strings when regex=True.\n",
      "  df['Away Team HT']=df['Away Team HT'].str.replace(')','')\n"
     ]
    }
   ],
   "source": [
    "df2=clean_data(df)\n",
    "\n",
    "df2.to_csv('croatia.csv',index=False)"
   ]
  },
  {
   "cell_type": "code",
   "execution_count": 16,
   "id": "3defb215",
   "metadata": {},
   "outputs": [
    {
     "name": "stderr",
     "output_type": "stream",
     "text": [
      "<ipython-input-16-ec0431457f11>:7: DeprecationWarning: executable_path has been deprecated, please pass in a Service object\n",
      "  driver=webdriver.Chrome(ChromeDriverManager().install())\n"
     ]
    },
    {
     "name": "stdout",
     "output_type": "stream",
     "text": [
      "[['12.11. 16:30', 'AlbinoLeffe', '(1)', '1', 'Sangiuliano City', '(0)', '1'], ['12.11. 16:30', 'Arzignano', '(0)', '0', 'Mantova', '(1)', '1']]\n"
     ]
    }
   ],
   "source": [
    "#seric C\n",
    "\"https://www.livesport.com/en/soccer/italy/serie-c-group-a/results/\"\n",
    "#english premier league\n",
    "#putting an object to have the list\n",
    "element_list=[]\n",
    "\n",
    "driver=webdriver.Chrome(ChromeDriverManager().install())\n",
    "driver.get(\"https://www.livesport.com/en/soccer/italy/serie-c-group-a/results/\")\n",
    "\n",
    "date=driver.find_elements(By.CLASS_NAME,\"event__time\")\n",
    "home_team=driver.find_elements(By.CLASS_NAME,\"event__participant--home\")\n",
    "home_half=driver.find_elements(By.CLASS_NAME,\"event__part--home.event__part--1\")\n",
    "home_full=driver.find_elements(By.CLASS_NAME,\"event__score--home\")\n",
    "away_team=driver.find_elements(By.CLASS_NAME,\"event__participant--away\")\n",
    "away_half=driver.find_elements(By.CLASS_NAME,\"event__part--away.event__part--1\")\n",
    "away_full=driver.find_elements(By.CLASS_NAME,\"event__score--away\")\n",
    "\n",
    "\n",
    "for i in range(len(date)):\n",
    "    element_list.append([date[i].text,home_team[i].text,home_half[i].text,home_full[i].text,\n",
    "                        away_team[i].text,away_half[i].text,away_full[i].text])\n",
    "print(element_list[:2])\n",
    "\n",
    "#closing the driver\n",
    "driver.close()"
   ]
  },
  {
   "cell_type": "code",
   "execution_count": 17,
   "id": "23a90eae",
   "metadata": {},
   "outputs": [],
   "source": [
    "#making the element list a data frame\n",
    "import pandas as pd \n",
    "# List1 \n",
    "df = pd.DataFrame(element_list, columns =['Date','Home Team','Home Team HT',\n",
    "                                          'Home Team FT','Away Team',\n",
    "                                          'Away Team HT','Away Team FT'],\n",
    "                  dtype = float)\n"
   ]
  },
  {
   "cell_type": "code",
   "execution_count": 18,
   "id": "4ac7d6bb",
   "metadata": {},
   "outputs": [
    {
     "name": "stderr",
     "output_type": "stream",
     "text": [
      "<ipython-input-2-9d32f0990916>:4: FutureWarning: The default value of regex will change from True to False in a future version. In addition, single character regular expressions will*not* be treated as literal strings when regex=True.\n",
      "  df['Home Team HT']=df['Home Team HT'].str.replace('(','')\n",
      "<ipython-input-2-9d32f0990916>:5: FutureWarning: The default value of regex will change from True to False in a future version. In addition, single character regular expressions will*not* be treated as literal strings when regex=True.\n",
      "  df['Home Team HT']=df['Home Team HT'].str.replace(')','')\n",
      "<ipython-input-2-9d32f0990916>:7: FutureWarning: The default value of regex will change from True to False in a future version. In addition, single character regular expressions will*not* be treated as literal strings when regex=True.\n",
      "  df['Away Team HT']=df['Away Team HT'].str.replace('(','')\n",
      "<ipython-input-2-9d32f0990916>:8: FutureWarning: The default value of regex will change from True to False in a future version. In addition, single character regular expressions will*not* be treated as literal strings when regex=True.\n",
      "  df['Away Team HT']=df['Away Team HT'].str.replace(')','')\n"
     ]
    }
   ],
   "source": [
    "df2=clean_data(df)\n",
    "\n",
    "df2.to_csv('serie c.csv',index=False)"
   ]
  },
  {
   "cell_type": "code",
   "execution_count": 19,
   "id": "497162cf",
   "metadata": {},
   "outputs": [
    {
     "name": "stderr",
     "output_type": "stream",
     "text": [
      "<ipython-input-19-81a4bda32b86>:7: DeprecationWarning: executable_path has been deprecated, please pass in a Service object\n",
      "  driver=webdriver.Chrome(ChromeDriverManager().install())\n"
     ]
    },
    {
     "name": "stdout",
     "output_type": "stream",
     "text": [
      "[['12.11. 17:00', 'St Etienne', '(0)', '0', 'Rodez', '(0)', '2'], ['07.11. 22:45', 'Metz', '(2)', '3', 'St Etienne', '(1)', '2']]\n"
     ]
    }
   ],
   "source": [
    "#ligue 2\n",
    "\"https://www.livesport.com/en/soccer/france/ligue-2/results/\"\n",
    "#english premier league\n",
    "#putting an object to have the list\n",
    "element_list=[]\n",
    "\n",
    "driver=webdriver.Chrome(ChromeDriverManager().install())\n",
    "driver.get(\"https://www.livesport.com/en/soccer/france/ligue-2/results/\")\n",
    "\n",
    "date=driver.find_elements(By.CLASS_NAME,\"event__time\")\n",
    "home_team=driver.find_elements(By.CLASS_NAME,\"event__participant--home\")\n",
    "home_half=driver.find_elements(By.CLASS_NAME,\"event__part--home.event__part--1\")\n",
    "home_full=driver.find_elements(By.CLASS_NAME,\"event__score--home\")\n",
    "away_team=driver.find_elements(By.CLASS_NAME,\"event__participant--away\")\n",
    "away_half=driver.find_elements(By.CLASS_NAME,\"event__part--away.event__part--1\")\n",
    "away_full=driver.find_elements(By.CLASS_NAME,\"event__score--away\")\n",
    "\n",
    "\n",
    "for i in range(len(date)):\n",
    "    element_list.append([date[i].text,home_team[i].text,home_half[i].text,home_full[i].text,\n",
    "                        away_team[i].text,away_half[i].text,away_full[i].text])\n",
    "print(element_list[:2])\n",
    "\n",
    "#closing the driver\n",
    "driver.close()"
   ]
  },
  {
   "cell_type": "code",
   "execution_count": 20,
   "id": "10e55797",
   "metadata": {},
   "outputs": [],
   "source": [
    "#making the element list a data frame\n",
    "import pandas as pd \n",
    "# List1 \n",
    "df = pd.DataFrame(element_list, columns =['Date','Home Team','Home Team HT',\n",
    "                                          'Home Team FT','Away Team',\n",
    "                                          'Away Team HT','Away Team FT'],\n",
    "                  dtype = float)\n"
   ]
  },
  {
   "cell_type": "code",
   "execution_count": 21,
   "id": "609dc836",
   "metadata": {},
   "outputs": [
    {
     "name": "stderr",
     "output_type": "stream",
     "text": [
      "<ipython-input-2-9d32f0990916>:4: FutureWarning: The default value of regex will change from True to False in a future version. In addition, single character regular expressions will*not* be treated as literal strings when regex=True.\n",
      "  df['Home Team HT']=df['Home Team HT'].str.replace('(','')\n",
      "<ipython-input-2-9d32f0990916>:5: FutureWarning: The default value of regex will change from True to False in a future version. In addition, single character regular expressions will*not* be treated as literal strings when regex=True.\n",
      "  df['Home Team HT']=df['Home Team HT'].str.replace(')','')\n",
      "<ipython-input-2-9d32f0990916>:7: FutureWarning: The default value of regex will change from True to False in a future version. In addition, single character regular expressions will*not* be treated as literal strings when regex=True.\n",
      "  df['Away Team HT']=df['Away Team HT'].str.replace('(','')\n",
      "<ipython-input-2-9d32f0990916>:8: FutureWarning: The default value of regex will change from True to False in a future version. In addition, single character regular expressions will*not* be treated as literal strings when regex=True.\n",
      "  df['Away Team HT']=df['Away Team HT'].str.replace(')','')\n"
     ]
    }
   ],
   "source": [
    "df2=clean_data(df)\n",
    "\n",
    "df2.to_csv('ligue 2.csv',index=False)"
   ]
  },
  {
   "cell_type": "code",
   "execution_count": 25,
   "id": "661ac81d",
   "metadata": {},
   "outputs": [
    {
     "data": {
      "text/html": [
       "<div>\n",
       "<style scoped>\n",
       "    .dataframe tbody tr th:only-of-type {\n",
       "        vertical-align: middle;\n",
       "    }\n",
       "\n",
       "    .dataframe tbody tr th {\n",
       "        vertical-align: top;\n",
       "    }\n",
       "\n",
       "    .dataframe thead th {\n",
       "        text-align: right;\n",
       "    }\n",
       "</style>\n",
       "<table border=\"1\" class=\"dataframe\">\n",
       "  <thead>\n",
       "    <tr style=\"text-align: right;\">\n",
       "      <th></th>\n",
       "      <th>Home Team</th>\n",
       "      <th>Home Team HT</th>\n",
       "      <th>Home Team FT</th>\n",
       "      <th>Away Team</th>\n",
       "      <th>Away Team HT</th>\n",
       "      <th>Away Team FT</th>\n",
       "      <th>date</th>\n",
       "      <th>time</th>\n",
       "      <th>Total HT Goals</th>\n",
       "      <th>Total FT Goals</th>\n",
       "      <th>FT-HT Goals</th>\n",
       "    </tr>\n",
       "  </thead>\n",
       "  <tbody>\n",
       "    <tr>\n",
       "      <th>0</th>\n",
       "      <td>B. Monchengladbach</td>\n",
       "      <td>2</td>\n",
       "      <td>3</td>\n",
       "      <td>Stuttgart</td>\n",
       "      <td>0</td>\n",
       "      <td>1</td>\n",
       "      <td>2022-01-14</td>\n",
       "      <td>19:30</td>\n",
       "      <td>2</td>\n",
       "      <td>4</td>\n",
       "      <td>2</td>\n",
       "    </tr>\n",
       "    <tr>\n",
       "      <th>1</th>\n",
       "      <td>Bochum</td>\n",
       "      <td>0</td>\n",
       "      <td>1</td>\n",
       "      <td>Werder Bremen</td>\n",
       "      <td>0</td>\n",
       "      <td>1</td>\n",
       "      <td>2022-01-14</td>\n",
       "      <td>17:30</td>\n",
       "      <td>0</td>\n",
       "      <td>2</td>\n",
       "      <td>2</td>\n",
       "    </tr>\n",
       "    <tr>\n",
       "      <th>2</th>\n",
       "      <td>Darmstadt</td>\n",
       "      <td>0</td>\n",
       "      <td>0</td>\n",
       "      <td>Dortmund</td>\n",
       "      <td>1</td>\n",
       "      <td>3</td>\n",
       "      <td>2022-01-13</td>\n",
       "      <td>20:30</td>\n",
       "      <td>1</td>\n",
       "      <td>3</td>\n",
       "      <td>2</td>\n",
       "    </tr>\n",
       "    <tr>\n",
       "      <th>3</th>\n",
       "      <td>Augsburg</td>\n",
       "      <td>0</td>\n",
       "      <td>0</td>\n",
       "      <td>Bayer Leverkusen</td>\n",
       "      <td>0</td>\n",
       "      <td>1</td>\n",
       "      <td>2022-01-13</td>\n",
       "      <td>17:30</td>\n",
       "      <td>0</td>\n",
       "      <td>1</td>\n",
       "      <td>1</td>\n",
       "    </tr>\n",
       "    <tr>\n",
       "      <th>4</th>\n",
       "      <td>FC Koln</td>\n",
       "      <td>1</td>\n",
       "      <td>1</td>\n",
       "      <td>Heidenheim</td>\n",
       "      <td>0</td>\n",
       "      <td>1</td>\n",
       "      <td>2022-01-13</td>\n",
       "      <td>17:30</td>\n",
       "      <td>1</td>\n",
       "      <td>2</td>\n",
       "      <td>1</td>\n",
       "    </tr>\n",
       "  </tbody>\n",
       "</table>\n",
       "</div>"
      ],
      "text/plain": [
       "            Home Team  Home Team HT  Home Team FT         Away Team  \\\n",
       "0  B. Monchengladbach             2             3         Stuttgart   \n",
       "1              Bochum             0             1     Werder Bremen   \n",
       "2           Darmstadt             0             0          Dortmund   \n",
       "3            Augsburg             0             0  Bayer Leverkusen   \n",
       "4             FC Koln             1             1        Heidenheim   \n",
       "\n",
       "   Away Team HT  Away Team FT       date   time  Total HT Goals  \\\n",
       "0             0             1 2022-01-14  19:30               2   \n",
       "1             0             1 2022-01-14  17:30               0   \n",
       "2             1             3 2022-01-13  20:30               1   \n",
       "3             0             1 2022-01-13  17:30               0   \n",
       "4             0             1 2022-01-13  17:30               1   \n",
       "\n",
       "   Total FT Goals  FT-HT Goals  \n",
       "0               4            2  \n",
       "1               2            2  \n",
       "2               3            2  \n",
       "3               1            1  \n",
       "4               2            1  "
      ]
     },
     "execution_count": 25,
     "metadata": {},
     "output_type": "execute_result"
    }
   ],
   "source": [
    "df2.head()"
   ]
  },
  {
   "cell_type": "code",
   "execution_count": 26,
   "id": "c2e13cff-69da-42a0-af80-817d4e1ce77b",
   "metadata": {},
   "outputs": [],
   "source": [
    "#creating a function to predict the games\n",
    "#importing libraries\n",
    "import pandas as pd\n",
    "from sklearn.linear_model import LinearRegression"
   ]
  },
  {
   "cell_type": "code",
   "execution_count": 37,
   "id": "e402664f-8b9a-4dcc-9850-8eaa7e6df4f6",
   "metadata": {},
   "outputs": [],
   "source": [
    "def predict_total_goals(df):\n",
    "    \n",
    "    #create list to store predictions\n",
    "    predictions = []\n",
    "    \n",
    "    #iterate through each row in the dataframe\n",
    "    for index, row in df.iterrows():\n",
    "        \n",
    "        home_team=row['Home Team']\n",
    "        away_team=row['Away Team']\n",
    "        ht_score_home=row['Home Team HT']\n",
    "        ht_score_away=row['Away Team HT']\n",
    "        \n",
    "    # Filter the dataset based on the teams playing\n",
    "    team_data = df2[(df2['Home Team'] == home_team) & (df2['Away Team'] == away_team)]\n",
    "\n",
    "    # Filter data for the Home Team's previous games\n",
    "    home_team_data = team_data[team_data['Home Team'] == home_team]\n",
    "\n",
    "    # Filter data for the Away Team's previous games\n",
    "    away_team_data = team_data[team_data['Away Team'] == away_team]\n",
    "\n",
    "    # Train a linear regression model for Home Team\n",
    "    model_home = LinearRegression()\n",
    "    model_home.fit(home_team_data[['Home Team HT']], home_team_data['Home Team FT'])\n",
    "\n",
    "    # Train a linear regression model for Away Team\n",
    "    model_away = LinearRegression()\n",
    "    model_away.fit(away_team_data[['Away Team HT']], away_team_data['Away Team FT'])\n",
    "\n",
    "    # Use the trained models to predict Full Time scores based on Half Time scores\n",
    "    predicted_ft_home = model_home.predict([[ht_score_home]])[0]\n",
    "    predicted_ft_away = model_away.predict([[ht_score_away]])[0]\n",
    "\n",
    "    # Calculate the total predicted goals\n",
    "    total_goals_prediction = predicted_ft_home + predicted_ft_away\n",
    "    \n",
    "    #append the predictions to the list\n",
    "    predictions.append(total_goals_prediction)\n",
    "    \n",
    "    #add the predictions as a new column to the dataframe\n",
    "    df['Predicted Total Goals'] = predictions\n",
    "\n",
    "    #return total_goals_prediction"
   ]
  },
  {
   "cell_type": "code",
   "execution_count": 29,
   "id": "81aaa19e-18b9-45b2-8e28-6d21a43a4b3b",
   "metadata": {},
   "outputs": [
    {
     "data": {
      "text/html": [
       "<div>\n",
       "<style scoped>\n",
       "    .dataframe tbody tr th:only-of-type {\n",
       "        vertical-align: middle;\n",
       "    }\n",
       "\n",
       "    .dataframe tbody tr th {\n",
       "        vertical-align: top;\n",
       "    }\n",
       "\n",
       "    .dataframe thead th {\n",
       "        text-align: right;\n",
       "    }\n",
       "</style>\n",
       "<table border=\"1\" class=\"dataframe\">\n",
       "  <thead>\n",
       "    <tr style=\"text-align: right;\">\n",
       "      <th></th>\n",
       "      <th>Home Team</th>\n",
       "      <th>Home Team HT</th>\n",
       "      <th>Away Team</th>\n",
       "      <th>Away Team HT</th>\n",
       "    </tr>\n",
       "  </thead>\n",
       "  <tbody>\n",
       "    <tr>\n",
       "      <th>0</th>\n",
       "      <td>B. Monchengladbach</td>\n",
       "      <td>2</td>\n",
       "      <td>Stuttgart</td>\n",
       "      <td>0</td>\n",
       "    </tr>\n",
       "    <tr>\n",
       "      <th>1</th>\n",
       "      <td>Bochum</td>\n",
       "      <td>0</td>\n",
       "      <td>Werder Bremen</td>\n",
       "      <td>0</td>\n",
       "    </tr>\n",
       "    <tr>\n",
       "      <th>2</th>\n",
       "      <td>Darmstadt</td>\n",
       "      <td>0</td>\n",
       "      <td>Dortmund</td>\n",
       "      <td>1</td>\n",
       "    </tr>\n",
       "    <tr>\n",
       "      <th>3</th>\n",
       "      <td>Augsburg</td>\n",
       "      <td>0</td>\n",
       "      <td>Bayer Leverkusen</td>\n",
       "      <td>0</td>\n",
       "    </tr>\n",
       "    <tr>\n",
       "      <th>4</th>\n",
       "      <td>FC Koln</td>\n",
       "      <td>1</td>\n",
       "      <td>Heidenheim</td>\n",
       "      <td>0</td>\n",
       "    </tr>\n",
       "  </tbody>\n",
       "</table>\n",
       "</div>"
      ],
      "text/plain": [
       "            Home Team  Home Team HT         Away Team  Away Team HT\n",
       "0  B. Monchengladbach             2         Stuttgart             0\n",
       "1              Bochum             0     Werder Bremen             0\n",
       "2           Darmstadt             0          Dortmund             1\n",
       "3            Augsburg             0  Bayer Leverkusen             0\n",
       "4             FC Koln             1        Heidenheim             0"
      ]
     },
     "execution_count": 29,
     "metadata": {},
     "output_type": "execute_result"
    }
   ],
   "source": [
    "#sample data set with half time score for these teams\n",
    "#drop some columns from the data we have\n",
    "to_drop=['Home Team FT','Away Team FT','date','time','Total HT Goals',\n",
    "        'Total FT Goals','FT-HT Goals']\n",
    "df3_prediction=df2.drop(columns=to_drop)\n",
    "df3_prediction.head()"
   ]
  },
  {
   "cell_type": "code",
   "execution_count": 50,
   "id": "44b97c03-6f1d-4e7c-8861-44a4bdaaba20",
   "metadata": {},
   "outputs": [
    {
     "data": {
      "text/html": [
       "<div>\n",
       "<style scoped>\n",
       "    .dataframe tbody tr th:only-of-type {\n",
       "        vertical-align: middle;\n",
       "    }\n",
       "\n",
       "    .dataframe tbody tr th {\n",
       "        vertical-align: top;\n",
       "    }\n",
       "\n",
       "    .dataframe thead th {\n",
       "        text-align: right;\n",
       "    }\n",
       "</style>\n",
       "<table border=\"1\" class=\"dataframe\">\n",
       "  <thead>\n",
       "    <tr style=\"text-align: right;\">\n",
       "      <th></th>\n",
       "      <th>Home Team</th>\n",
       "      <th>Home Team HT</th>\n",
       "      <th>Away Team</th>\n",
       "      <th>Away Team HT</th>\n",
       "    </tr>\n",
       "  </thead>\n",
       "  <tbody>\n",
       "    <tr>\n",
       "      <th>104</th>\n",
       "      <td>Mainz</td>\n",
       "      <td>0</td>\n",
       "      <td>Bayer Leverkusen</td>\n",
       "      <td>1</td>\n",
       "    </tr>\n",
       "    <tr>\n",
       "      <th>105</th>\n",
       "      <td>Wolfsburg</td>\n",
       "      <td>1</td>\n",
       "      <td>Eintracht Frankfurt</td>\n",
       "      <td>0</td>\n",
       "    </tr>\n",
       "    <tr>\n",
       "      <th>106</th>\n",
       "      <td>Hoffenheim</td>\n",
       "      <td>1</td>\n",
       "      <td>Dortmund</td>\n",
       "      <td>2</td>\n",
       "    </tr>\n",
       "    <tr>\n",
       "      <th>107</th>\n",
       "      <td>Eintracht Frankfurt</td>\n",
       "      <td>0</td>\n",
       "      <td>Freiburg</td>\n",
       "      <td>0</td>\n",
       "    </tr>\n",
       "    <tr>\n",
       "      <th>108</th>\n",
       "      <td>Bayer Leverkusen</td>\n",
       "      <td>1</td>\n",
       "      <td>Heidenheim</td>\n",
       "      <td>0</td>\n",
       "    </tr>\n",
       "  </tbody>\n",
       "</table>\n",
       "</div>"
      ],
      "text/plain": [
       "               Home Team  Home Team HT            Away Team  Away Team HT\n",
       "104                Mainz             0     Bayer Leverkusen             1\n",
       "105            Wolfsburg             1  Eintracht Frankfurt             0\n",
       "106           Hoffenheim             1             Dortmund             2\n",
       "107  Eintracht Frankfurt             0             Freiburg             0\n",
       "108     Bayer Leverkusen             1           Heidenheim             0"
      ]
     },
     "execution_count": 50,
     "metadata": {},
     "output_type": "execute_result"
    }
   ],
   "source": [
    "df3_prediction_few= df3_prediction.tail(5)\n",
    "df3_prediction_few.head()"
   ]
  },
  {
   "cell_type": "code",
   "execution_count": 38,
   "id": "57eaf476-212c-4f5d-88a5-288588811a1f",
   "metadata": {},
   "outputs": [
    {
     "name": "stderr",
     "output_type": "stream",
     "text": [
      "C:\\Users\\John\\anaconda3\\lib\\site-packages\\sklearn\\base.py:420: UserWarning: X does not have valid feature names, but LinearRegression was fitted with feature names\n",
      "  warnings.warn(\n",
      "C:\\Users\\John\\anaconda3\\lib\\site-packages\\sklearn\\base.py:420: UserWarning: X does not have valid feature names, but LinearRegression was fitted with feature names\n",
      "  warnings.warn(\n"
     ]
    },
    {
     "ename": "ValueError",
     "evalue": "Length of values (1) does not match length of index (5)",
     "output_type": "error",
     "traceback": [
      "\u001b[1;31m---------------------------------------------------------------------------\u001b[0m",
      "\u001b[1;31mValueError\u001b[0m                                Traceback (most recent call last)",
      "\u001b[1;32m<ipython-input-38-81d26656933f>\u001b[0m in \u001b[0;36m<module>\u001b[1;34m\u001b[0m\n\u001b[0;32m      2\u001b[0m \u001b[1;31m# Assuming you have a DataFrame called 'your_dataset' with the necessary columns\u001b[0m\u001b[1;33m\u001b[0m\u001b[1;33m\u001b[0m\u001b[1;33m\u001b[0m\u001b[0m\n\u001b[0;32m      3\u001b[0m \u001b[1;31m# Replace 'your_dataset' with the actual variable name of your dataset\u001b[0m\u001b[1;33m\u001b[0m\u001b[1;33m\u001b[0m\u001b[1;33m\u001b[0m\u001b[0m\n\u001b[1;32m----> 4\u001b[1;33m \u001b[0mpredicted_goals\u001b[0m \u001b[1;33m=\u001b[0m \u001b[0mpredict_total_goals\u001b[0m\u001b[1;33m(\u001b[0m\u001b[0mdf3_prediction_few\u001b[0m\u001b[1;33m)\u001b[0m\u001b[1;33m\u001b[0m\u001b[1;33m\u001b[0m\u001b[0m\n\u001b[0m\u001b[0;32m      5\u001b[0m \u001b[1;31m#print(f'Predicted Total Goals: {predicted_goals:.2f}')\u001b[0m\u001b[1;33m\u001b[0m\u001b[1;33m\u001b[0m\u001b[1;33m\u001b[0m\u001b[0m\n",
      "\u001b[1;32m<ipython-input-37-8c9d7e6053b4>\u001b[0m in \u001b[0;36mpredict_total_goals\u001b[1;34m(df)\u001b[0m\n\u001b[0;32m     40\u001b[0m \u001b[1;33m\u001b[0m\u001b[0m\n\u001b[0;32m     41\u001b[0m     \u001b[1;31m#add the predictions as a new column to the dataframe\u001b[0m\u001b[1;33m\u001b[0m\u001b[1;33m\u001b[0m\u001b[1;33m\u001b[0m\u001b[0m\n\u001b[1;32m---> 42\u001b[1;33m     \u001b[0mdf\u001b[0m\u001b[1;33m[\u001b[0m\u001b[1;34m'Predicted Total Goals'\u001b[0m\u001b[1;33m]\u001b[0m \u001b[1;33m=\u001b[0m \u001b[0mpredictions\u001b[0m\u001b[1;33m\u001b[0m\u001b[1;33m\u001b[0m\u001b[0m\n\u001b[0m\u001b[0;32m     43\u001b[0m \u001b[1;33m\u001b[0m\u001b[0m\n\u001b[0;32m     44\u001b[0m     \u001b[1;31m#return total_goals_prediction\u001b[0m\u001b[1;33m\u001b[0m\u001b[1;33m\u001b[0m\u001b[1;33m\u001b[0m\u001b[0m\n",
      "\u001b[1;32m~\\anaconda3\\lib\\site-packages\\pandas\\core\\frame.py\u001b[0m in \u001b[0;36m__setitem__\u001b[1;34m(self, key, value)\u001b[0m\n\u001b[0;32m   3161\u001b[0m         \u001b[1;32melse\u001b[0m\u001b[1;33m:\u001b[0m\u001b[1;33m\u001b[0m\u001b[1;33m\u001b[0m\u001b[0m\n\u001b[0;32m   3162\u001b[0m             \u001b[1;31m# set column\u001b[0m\u001b[1;33m\u001b[0m\u001b[1;33m\u001b[0m\u001b[1;33m\u001b[0m\u001b[0m\n\u001b[1;32m-> 3163\u001b[1;33m             \u001b[0mself\u001b[0m\u001b[1;33m.\u001b[0m\u001b[0m_set_item\u001b[0m\u001b[1;33m(\u001b[0m\u001b[0mkey\u001b[0m\u001b[1;33m,\u001b[0m \u001b[0mvalue\u001b[0m\u001b[1;33m)\u001b[0m\u001b[1;33m\u001b[0m\u001b[1;33m\u001b[0m\u001b[0m\n\u001b[0m\u001b[0;32m   3164\u001b[0m \u001b[1;33m\u001b[0m\u001b[0m\n\u001b[0;32m   3165\u001b[0m     \u001b[1;32mdef\u001b[0m \u001b[0m_setitem_slice\u001b[0m\u001b[1;33m(\u001b[0m\u001b[0mself\u001b[0m\u001b[1;33m,\u001b[0m \u001b[0mkey\u001b[0m\u001b[1;33m:\u001b[0m \u001b[0mslice\u001b[0m\u001b[1;33m,\u001b[0m \u001b[0mvalue\u001b[0m\u001b[1;33m)\u001b[0m\u001b[1;33m:\u001b[0m\u001b[1;33m\u001b[0m\u001b[1;33m\u001b[0m\u001b[0m\n",
      "\u001b[1;32m~\\anaconda3\\lib\\site-packages\\pandas\\core\\frame.py\u001b[0m in \u001b[0;36m_set_item\u001b[1;34m(self, key, value)\u001b[0m\n\u001b[0;32m   3240\u001b[0m         \"\"\"\n\u001b[0;32m   3241\u001b[0m         \u001b[0mself\u001b[0m\u001b[1;33m.\u001b[0m\u001b[0m_ensure_valid_index\u001b[0m\u001b[1;33m(\u001b[0m\u001b[0mvalue\u001b[0m\u001b[1;33m)\u001b[0m\u001b[1;33m\u001b[0m\u001b[1;33m\u001b[0m\u001b[0m\n\u001b[1;32m-> 3242\u001b[1;33m         \u001b[0mvalue\u001b[0m \u001b[1;33m=\u001b[0m \u001b[0mself\u001b[0m\u001b[1;33m.\u001b[0m\u001b[0m_sanitize_column\u001b[0m\u001b[1;33m(\u001b[0m\u001b[0mkey\u001b[0m\u001b[1;33m,\u001b[0m \u001b[0mvalue\u001b[0m\u001b[1;33m)\u001b[0m\u001b[1;33m\u001b[0m\u001b[1;33m\u001b[0m\u001b[0m\n\u001b[0m\u001b[0;32m   3243\u001b[0m         \u001b[0mNDFrame\u001b[0m\u001b[1;33m.\u001b[0m\u001b[0m_set_item\u001b[0m\u001b[1;33m(\u001b[0m\u001b[0mself\u001b[0m\u001b[1;33m,\u001b[0m \u001b[0mkey\u001b[0m\u001b[1;33m,\u001b[0m \u001b[0mvalue\u001b[0m\u001b[1;33m)\u001b[0m\u001b[1;33m\u001b[0m\u001b[1;33m\u001b[0m\u001b[0m\n\u001b[0;32m   3244\u001b[0m \u001b[1;33m\u001b[0m\u001b[0m\n",
      "\u001b[1;32m~\\anaconda3\\lib\\site-packages\\pandas\\core\\frame.py\u001b[0m in \u001b[0;36m_sanitize_column\u001b[1;34m(self, key, value, broadcast)\u001b[0m\n\u001b[0;32m   3897\u001b[0m \u001b[1;33m\u001b[0m\u001b[0m\n\u001b[0;32m   3898\u001b[0m             \u001b[1;31m# turn me into an ndarray\u001b[0m\u001b[1;33m\u001b[0m\u001b[1;33m\u001b[0m\u001b[1;33m\u001b[0m\u001b[0m\n\u001b[1;32m-> 3899\u001b[1;33m             \u001b[0mvalue\u001b[0m \u001b[1;33m=\u001b[0m \u001b[0msanitize_index\u001b[0m\u001b[1;33m(\u001b[0m\u001b[0mvalue\u001b[0m\u001b[1;33m,\u001b[0m \u001b[0mself\u001b[0m\u001b[1;33m.\u001b[0m\u001b[0mindex\u001b[0m\u001b[1;33m)\u001b[0m\u001b[1;33m\u001b[0m\u001b[1;33m\u001b[0m\u001b[0m\n\u001b[0m\u001b[0;32m   3900\u001b[0m             \u001b[1;32mif\u001b[0m \u001b[1;32mnot\u001b[0m \u001b[0misinstance\u001b[0m\u001b[1;33m(\u001b[0m\u001b[0mvalue\u001b[0m\u001b[1;33m,\u001b[0m \u001b[1;33m(\u001b[0m\u001b[0mnp\u001b[0m\u001b[1;33m.\u001b[0m\u001b[0mndarray\u001b[0m\u001b[1;33m,\u001b[0m \u001b[0mIndex\u001b[0m\u001b[1;33m)\u001b[0m\u001b[1;33m)\u001b[0m\u001b[1;33m:\u001b[0m\u001b[1;33m\u001b[0m\u001b[1;33m\u001b[0m\u001b[0m\n\u001b[0;32m   3901\u001b[0m                 \u001b[1;32mif\u001b[0m \u001b[0misinstance\u001b[0m\u001b[1;33m(\u001b[0m\u001b[0mvalue\u001b[0m\u001b[1;33m,\u001b[0m \u001b[0mlist\u001b[0m\u001b[1;33m)\u001b[0m \u001b[1;32mand\u001b[0m \u001b[0mlen\u001b[0m\u001b[1;33m(\u001b[0m\u001b[0mvalue\u001b[0m\u001b[1;33m)\u001b[0m \u001b[1;33m>\u001b[0m \u001b[1;36m0\u001b[0m\u001b[1;33m:\u001b[0m\u001b[1;33m\u001b[0m\u001b[1;33m\u001b[0m\u001b[0m\n",
      "\u001b[1;32m~\\anaconda3\\lib\\site-packages\\pandas\\core\\internals\\construction.py\u001b[0m in \u001b[0;36msanitize_index\u001b[1;34m(data, index)\u001b[0m\n\u001b[0;32m    749\u001b[0m     \"\"\"\n\u001b[0;32m    750\u001b[0m     \u001b[1;32mif\u001b[0m \u001b[0mlen\u001b[0m\u001b[1;33m(\u001b[0m\u001b[0mdata\u001b[0m\u001b[1;33m)\u001b[0m \u001b[1;33m!=\u001b[0m \u001b[0mlen\u001b[0m\u001b[1;33m(\u001b[0m\u001b[0mindex\u001b[0m\u001b[1;33m)\u001b[0m\u001b[1;33m:\u001b[0m\u001b[1;33m\u001b[0m\u001b[1;33m\u001b[0m\u001b[0m\n\u001b[1;32m--> 751\u001b[1;33m         raise ValueError(\n\u001b[0m\u001b[0;32m    752\u001b[0m             \u001b[1;34m\"Length of values \"\u001b[0m\u001b[1;33m\u001b[0m\u001b[1;33m\u001b[0m\u001b[0m\n\u001b[0;32m    753\u001b[0m             \u001b[1;34mf\"({len(data)}) \"\u001b[0m\u001b[1;33m\u001b[0m\u001b[1;33m\u001b[0m\u001b[0m\n",
      "\u001b[1;31mValueError\u001b[0m: Length of values (1) does not match length of index (5)"
     ]
    }
   ],
   "source": [
    "# Example usage:\n",
    "# Assuming you have a DataFrame called 'your_dataset' with the necessary columns\n",
    "# Replace 'your_dataset' with the actual variable name of your dataset\n",
    "predicted_goals = predict_total_goals(df3_prediction_few)\n",
    "#print(f'Predicted Total Goals: {predicted_goals:.2f}')"
   ]
  },
  {
   "cell_type": "code",
   "execution_count": 44,
   "id": "09a04434-4073-4b52-8389-8236ec817706",
   "metadata": {},
   "outputs": [],
   "source": [
    "def predict_total_goals(df, results_df):\n",
    "    predictions = []\n",
    "\n",
    "    for index, row in df.iterrows():\n",
    "        home_team = row['Home Team']\n",
    "        away_team = row['Away Team']\n",
    "        ht_score_home = row['Home Team HT']\n",
    "        ht_score_away = row['Away Team HT']\n",
    "\n",
    "        # Assuming 'results_df' is your dataset with historical full-time results\n",
    "        home_team_results = results_df[results_df['Home Team'] == home_team]\n",
    "        away_team_results = results_df[results_df['Away Team'] == away_team]\n",
    "\n",
    "        # Find the maximum number of goals each team has scored after half time\n",
    "        max_goals_home = home_team_results['FT-HT_Home'].max()  # Replace 'FT Total Score' with the actual column name\n",
    "        max_goals_away = away_team_results['FT-HT_Away'].max()  # Replace 'FT Total Score' with the actual column name\n",
    "\n",
    "        # Rule-based predictions\n",
    "        home_team_prediction = ht_score_home + max_goals_home  # Example rule: +2 goals after halftime if 1 goal at HT\n",
    "        away_team_prediction = ht_score_away + max_goals_away  # Example rule: +1 goal after halftime if 0 goals at HT\n",
    "\n",
    "        # Ensure that the total predicted goals don't exceed the team's historical maximum\n",
    "        total_goals_prediction = home_team_prediction + away_team_prediction\n",
    "\n",
    "        predictions.append(total_goals_prediction)\n",
    "\n",
    "    # Add the predictions as a new column to the DataFrame\n",
    "    df['Predicted Total Goals'] = predictions\n",
    "\n",
    "# Example usage:\n",
    "# Assuming you have a DataFrame called 'your_dataset' with the necessary columns\n",
    "# Replace 'your_dataset' with the actual variable name of your dataset\n",
    "\n",
    "# Assuming 'results_df' is your dataset with historical full-time results\n",
    "# Replace 'results_df' with the actual variable name of your historical results dataset\n"
   ]
  },
  {
   "cell_type": "code",
   "execution_count": 51,
   "id": "f4845623-7ed1-4225-88b4-61f8da608089",
   "metadata": {},
   "outputs": [
    {
     "name": "stderr",
     "output_type": "stream",
     "text": [
      "<ipython-input-44-26bd1404f08e>:28: SettingWithCopyWarning: \n",
      "A value is trying to be set on a copy of a slice from a DataFrame.\n",
      "Try using .loc[row_indexer,col_indexer] = value instead\n",
      "\n",
      "See the caveats in the documentation: https://pandas.pydata.org/pandas-docs/stable/user_guide/indexing.html#returning-a-view-versus-a-copy\n",
      "  df['Predicted Total Goals'] = predictions\n"
     ]
    },
    {
     "data": {
      "text/html": [
       "<div>\n",
       "<style scoped>\n",
       "    .dataframe tbody tr th:only-of-type {\n",
       "        vertical-align: middle;\n",
       "    }\n",
       "\n",
       "    .dataframe tbody tr th {\n",
       "        vertical-align: top;\n",
       "    }\n",
       "\n",
       "    .dataframe thead th {\n",
       "        text-align: right;\n",
       "    }\n",
       "</style>\n",
       "<table border=\"1\" class=\"dataframe\">\n",
       "  <thead>\n",
       "    <tr style=\"text-align: right;\">\n",
       "      <th></th>\n",
       "      <th>Home Team</th>\n",
       "      <th>Home Team HT</th>\n",
       "      <th>Away Team</th>\n",
       "      <th>Away Team HT</th>\n",
       "      <th>Predicted Total Goals</th>\n",
       "    </tr>\n",
       "  </thead>\n",
       "  <tbody>\n",
       "    <tr>\n",
       "      <th>104</th>\n",
       "      <td>Mainz</td>\n",
       "      <td>0</td>\n",
       "      <td>Bayer Leverkusen</td>\n",
       "      <td>1</td>\n",
       "      <td>5</td>\n",
       "    </tr>\n",
       "    <tr>\n",
       "      <th>105</th>\n",
       "      <td>Wolfsburg</td>\n",
       "      <td>1</td>\n",
       "      <td>Eintracht Frankfurt</td>\n",
       "      <td>0</td>\n",
       "      <td>4</td>\n",
       "    </tr>\n",
       "    <tr>\n",
       "      <th>106</th>\n",
       "      <td>Hoffenheim</td>\n",
       "      <td>1</td>\n",
       "      <td>Dortmund</td>\n",
       "      <td>2</td>\n",
       "      <td>7</td>\n",
       "    </tr>\n",
       "    <tr>\n",
       "      <th>107</th>\n",
       "      <td>Eintracht Frankfurt</td>\n",
       "      <td>0</td>\n",
       "      <td>Freiburg</td>\n",
       "      <td>0</td>\n",
       "      <td>3</td>\n",
       "    </tr>\n",
       "    <tr>\n",
       "      <th>108</th>\n",
       "      <td>Bayer Leverkusen</td>\n",
       "      <td>1</td>\n",
       "      <td>Heidenheim</td>\n",
       "      <td>0</td>\n",
       "      <td>6</td>\n",
       "    </tr>\n",
       "  </tbody>\n",
       "</table>\n",
       "</div>"
      ],
      "text/plain": [
       "               Home Team  Home Team HT            Away Team  Away Team HT  \\\n",
       "104                Mainz             0     Bayer Leverkusen             1   \n",
       "105            Wolfsburg             1  Eintracht Frankfurt             0   \n",
       "106           Hoffenheim             1             Dortmund             2   \n",
       "107  Eintracht Frankfurt             0             Freiburg             0   \n",
       "108     Bayer Leverkusen             1           Heidenheim             0   \n",
       "\n",
       "     Predicted Total Goals  \n",
       "104                      5  \n",
       "105                      4  \n",
       "106                      7  \n",
       "107                      3  \n",
       "108                      6  "
      ]
     },
     "execution_count": 51,
     "metadata": {},
     "output_type": "execute_result"
    }
   ],
   "source": [
    "\n",
    "# Call the function to add the predicted column\n",
    "predictions=predict_total_goals(df3_prediction_few, df2)\n",
    "df3_prediction_few.head()"
   ]
  },
  {
   "cell_type": "code",
   "execution_count": 49,
   "id": "81cc9e95-2bd9-4bf5-ad1d-edaf77513187",
   "metadata": {},
   "outputs": [
    {
     "data": {
      "text/html": [
       "<div>\n",
       "<style scoped>\n",
       "    .dataframe tbody tr th:only-of-type {\n",
       "        vertical-align: middle;\n",
       "    }\n",
       "\n",
       "    .dataframe tbody tr th {\n",
       "        vertical-align: top;\n",
       "    }\n",
       "\n",
       "    .dataframe thead th {\n",
       "        text-align: right;\n",
       "    }\n",
       "</style>\n",
       "<table border=\"1\" class=\"dataframe\">\n",
       "  <thead>\n",
       "    <tr style=\"text-align: right;\">\n",
       "      <th></th>\n",
       "      <th>Home Team</th>\n",
       "      <th>Home Team HT</th>\n",
       "      <th>Away Team</th>\n",
       "      <th>Away Team HT</th>\n",
       "      <th>Predicted Total Goals</th>\n",
       "    </tr>\n",
       "  </thead>\n",
       "  <tbody>\n",
       "    <tr>\n",
       "      <th>0</th>\n",
       "      <td>B. Monchengladbach</td>\n",
       "      <td>2</td>\n",
       "      <td>Stuttgart</td>\n",
       "      <td>0</td>\n",
       "      <td>6</td>\n",
       "    </tr>\n",
       "    <tr>\n",
       "      <th>1</th>\n",
       "      <td>Bochum</td>\n",
       "      <td>0</td>\n",
       "      <td>Werder Bremen</td>\n",
       "      <td>0</td>\n",
       "      <td>4</td>\n",
       "    </tr>\n",
       "    <tr>\n",
       "      <th>2</th>\n",
       "      <td>Darmstadt</td>\n",
       "      <td>0</td>\n",
       "      <td>Dortmund</td>\n",
       "      <td>1</td>\n",
       "      <td>5</td>\n",
       "    </tr>\n",
       "    <tr>\n",
       "      <th>3</th>\n",
       "      <td>Augsburg</td>\n",
       "      <td>0</td>\n",
       "      <td>Bayer Leverkusen</td>\n",
       "      <td>0</td>\n",
       "      <td>4</td>\n",
       "    </tr>\n",
       "    <tr>\n",
       "      <th>4</th>\n",
       "      <td>FC Koln</td>\n",
       "      <td>1</td>\n",
       "      <td>Heidenheim</td>\n",
       "      <td>0</td>\n",
       "      <td>5</td>\n",
       "    </tr>\n",
       "  </tbody>\n",
       "</table>\n",
       "</div>"
      ],
      "text/plain": [
       "            Home Team  Home Team HT         Away Team  Away Team HT  \\\n",
       "0  B. Monchengladbach             2         Stuttgart             0   \n",
       "1              Bochum             0     Werder Bremen             0   \n",
       "2           Darmstadt             0          Dortmund             1   \n",
       "3            Augsburg             0  Bayer Leverkusen             0   \n",
       "4             FC Koln             1        Heidenheim             0   \n",
       "\n",
       "   Predicted Total Goals  \n",
       "0                      6  \n",
       "1                      4  \n",
       "2                      5  \n",
       "3                      4  \n",
       "4                      5  "
      ]
     },
     "execution_count": 49,
     "metadata": {},
     "output_type": "execute_result"
    }
   ],
   "source": [
    "df3_prediction_few.head()"
   ]
  },
  {
   "cell_type": "code",
   "execution_count": null,
   "id": "04de7bdf-077c-490e-a344-958413e003cb",
   "metadata": {},
   "outputs": [],
   "source": [
    "df['Predicted Total Goals'] = predictions"
   ]
  },
  {
   "cell_type": "code",
   "execution_count": 42,
   "id": "a098c511-b5a1-4fef-8c7a-3d4f205bee28",
   "metadata": {},
   "outputs": [],
   "source": [
    "df2['FT-HT_Home']=df2['Home Team FT'] - df2['Home Team HT']\n",
    "df2['FT-HT_Away']=df2['Away Team FT'] - df2['Away Team HT']"
   ]
  },
  {
   "cell_type": "code",
   "execution_count": 43,
   "id": "9fde1805-d1a2-4a7a-b4bf-afaeb8ef4af7",
   "metadata": {},
   "outputs": [
    {
     "data": {
      "text/html": [
       "<div>\n",
       "<style scoped>\n",
       "    .dataframe tbody tr th:only-of-type {\n",
       "        vertical-align: middle;\n",
       "    }\n",
       "\n",
       "    .dataframe tbody tr th {\n",
       "        vertical-align: top;\n",
       "    }\n",
       "\n",
       "    .dataframe thead th {\n",
       "        text-align: right;\n",
       "    }\n",
       "</style>\n",
       "<table border=\"1\" class=\"dataframe\">\n",
       "  <thead>\n",
       "    <tr style=\"text-align: right;\">\n",
       "      <th></th>\n",
       "      <th>Home Team</th>\n",
       "      <th>Home Team HT</th>\n",
       "      <th>Home Team FT</th>\n",
       "      <th>Away Team</th>\n",
       "      <th>Away Team HT</th>\n",
       "      <th>Away Team FT</th>\n",
       "      <th>date</th>\n",
       "      <th>time</th>\n",
       "      <th>Total HT Goals</th>\n",
       "      <th>Total FT Goals</th>\n",
       "      <th>FT-HT Goals</th>\n",
       "      <th>FT-HT_Home</th>\n",
       "      <th>FT-HT_Away</th>\n",
       "    </tr>\n",
       "  </thead>\n",
       "  <tbody>\n",
       "    <tr>\n",
       "      <th>0</th>\n",
       "      <td>B. Monchengladbach</td>\n",
       "      <td>2</td>\n",
       "      <td>3</td>\n",
       "      <td>Stuttgart</td>\n",
       "      <td>0</td>\n",
       "      <td>1</td>\n",
       "      <td>2022-01-14</td>\n",
       "      <td>19:30</td>\n",
       "      <td>2</td>\n",
       "      <td>4</td>\n",
       "      <td>2</td>\n",
       "      <td>1</td>\n",
       "      <td>1</td>\n",
       "    </tr>\n",
       "    <tr>\n",
       "      <th>1</th>\n",
       "      <td>Bochum</td>\n",
       "      <td>0</td>\n",
       "      <td>1</td>\n",
       "      <td>Werder Bremen</td>\n",
       "      <td>0</td>\n",
       "      <td>1</td>\n",
       "      <td>2022-01-14</td>\n",
       "      <td>17:30</td>\n",
       "      <td>0</td>\n",
       "      <td>2</td>\n",
       "      <td>2</td>\n",
       "      <td>1</td>\n",
       "      <td>1</td>\n",
       "    </tr>\n",
       "    <tr>\n",
       "      <th>2</th>\n",
       "      <td>Darmstadt</td>\n",
       "      <td>0</td>\n",
       "      <td>0</td>\n",
       "      <td>Dortmund</td>\n",
       "      <td>1</td>\n",
       "      <td>3</td>\n",
       "      <td>2022-01-13</td>\n",
       "      <td>20:30</td>\n",
       "      <td>1</td>\n",
       "      <td>3</td>\n",
       "      <td>2</td>\n",
       "      <td>0</td>\n",
       "      <td>2</td>\n",
       "    </tr>\n",
       "    <tr>\n",
       "      <th>3</th>\n",
       "      <td>Augsburg</td>\n",
       "      <td>0</td>\n",
       "      <td>0</td>\n",
       "      <td>Bayer Leverkusen</td>\n",
       "      <td>0</td>\n",
       "      <td>1</td>\n",
       "      <td>2022-01-13</td>\n",
       "      <td>17:30</td>\n",
       "      <td>0</td>\n",
       "      <td>1</td>\n",
       "      <td>1</td>\n",
       "      <td>0</td>\n",
       "      <td>1</td>\n",
       "    </tr>\n",
       "    <tr>\n",
       "      <th>4</th>\n",
       "      <td>FC Koln</td>\n",
       "      <td>1</td>\n",
       "      <td>1</td>\n",
       "      <td>Heidenheim</td>\n",
       "      <td>0</td>\n",
       "      <td>1</td>\n",
       "      <td>2022-01-13</td>\n",
       "      <td>17:30</td>\n",
       "      <td>1</td>\n",
       "      <td>2</td>\n",
       "      <td>1</td>\n",
       "      <td>0</td>\n",
       "      <td>1</td>\n",
       "    </tr>\n",
       "  </tbody>\n",
       "</table>\n",
       "</div>"
      ],
      "text/plain": [
       "            Home Team  Home Team HT  Home Team FT         Away Team  \\\n",
       "0  B. Monchengladbach             2             3         Stuttgart   \n",
       "1              Bochum             0             1     Werder Bremen   \n",
       "2           Darmstadt             0             0          Dortmund   \n",
       "3            Augsburg             0             0  Bayer Leverkusen   \n",
       "4             FC Koln             1             1        Heidenheim   \n",
       "\n",
       "   Away Team HT  Away Team FT       date   time  Total HT Goals  \\\n",
       "0             0             1 2022-01-14  19:30               2   \n",
       "1             0             1 2022-01-14  17:30               0   \n",
       "2             1             3 2022-01-13  20:30               1   \n",
       "3             0             1 2022-01-13  17:30               0   \n",
       "4             0             1 2022-01-13  17:30               1   \n",
       "\n",
       "   Total FT Goals  FT-HT Goals  FT-HT_Home  FT-HT_Away  \n",
       "0               4            2           1           1  \n",
       "1               2            2           1           1  \n",
       "2               3            2           0           2  \n",
       "3               1            1           0           1  \n",
       "4               2            1           0           1  "
      ]
     },
     "execution_count": 43,
     "metadata": {},
     "output_type": "execute_result"
    }
   ],
   "source": [
    "df2.head()"
   ]
  }
 ],
 "metadata": {
  "kernelspec": {
   "display_name": "Python 3",
   "language": "python",
   "name": "python3"
  },
  "language_info": {
   "codemirror_mode": {
    "name": "ipython",
    "version": 3
   },
   "file_extension": ".py",
   "mimetype": "text/x-python",
   "name": "python",
   "nbconvert_exporter": "python",
   "pygments_lexer": "ipython3",
   "version": "3.8.8"
  },
  "toc-autonumbering": true,
  "toc-showtags": true
 },
 "nbformat": 4,
 "nbformat_minor": 5
}
